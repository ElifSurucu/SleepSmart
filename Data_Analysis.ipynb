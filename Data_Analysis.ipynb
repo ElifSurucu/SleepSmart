{
 "cells": [
  {
   "cell_type": "markdown",
   "id": "e330c98c",
   "metadata": {},
   "source": [
    "# 📊 Project Overview\n",
    "This project explores the lifestyle and health factors associated with sleep disorders such as Insomnia and Sleep Apnea. The dataset contains 400 synthetic records and 13 variables, covering a wide range of metrics related to sleep health, daily habits, and cardiovascular indicators.\n",
    "\n",
    "# 🔍 Objective\n",
    "The primary goal is to uncover meaningful relationships between sleep disorders and various lifestyle factors, including stress levels, physical activity, BMI, heart rate, and daily step count. By identifying patterns and correlations, the analysis aims to support a better understanding of how daily routines and health metrics impact sleep quality and the likelihood of developing sleep-related conditions.\n",
    "\n",
    "# 🧾 Key Dataset Features\n",
    "The dataset includes the following categories:\n",
    "\n",
    "- Demographics: Gender, Age, Occupation\n",
    "\n",
    "- Sleep Metrics: Sleep Duration (hours), Quality of Sleep (1–10 scale)\n",
    "\n",
    "- Lifestyle Factors: Physical Activity (minutes/day), Stress Level (1–10 scale), Daily Steps\n",
    "\n",
    "- Health Indicators: BMI Category, Blood Pressure (systolic/diastolic), Heart Rate (bpm)\n",
    "\n",
    "- Sleep Disorder Diagnosis: None, Insomnia, or Sleep Apnea\n",
    "\n",
    "This structured dataset provides a valuable foundation for both descriptive and predictive analysis, enabling data-driven insights into how lifestyle adjustments may help reduce sleep disturbances."
   ]
  },
  {
   "cell_type": "markdown",
   "id": "8271ca61",
   "metadata": {},
   "source": [
    "# 📥 Imports and Data Collection\n",
    "To begin the analysis, we first import the necessary Python libraries and load the dataset into a pandas DataFrame. These libraries support data manipulation, visualization, and basic statistical exploration."
   ]
  },
  {
   "cell_type": "code",
   "execution_count": 3,
   "id": "10e2b039",
   "metadata": {},
   "outputs": [],
   "source": [
    "# Data manipulation and analysis\n",
    "\n",
    "import pandas as pd \n",
    "import numpy as np\n",
    "\n",
    "#Data visualization\n",
    "\n",
    "import matplotlib.pyplot as plt\n",
    "import seaborn as sns\n",
    "\n",
    "#Statistical analysis\n",
    "\n",
    "from scipy import stats"
   ]
  },
  {
   "cell_type": "markdown",
   "id": "b313f489",
   "metadata": {},
   "source": [
    "# 📊 Data Analysis"
   ]
  },
  {
   "cell_type": "code",
   "execution_count": 4,
   "id": "70f2046c",
   "metadata": {},
   "outputs": [
    {
     "data": {
      "application/vnd.microsoft.datawrangler.viewer.v0+json": {
       "columns": [
        {
         "name": "index",
         "rawType": "int64",
         "type": "integer"
        },
        {
         "name": "Person ID",
         "rawType": "int64",
         "type": "integer"
        },
        {
         "name": "Gender",
         "rawType": "object",
         "type": "string"
        },
        {
         "name": "Age",
         "rawType": "int64",
         "type": "integer"
        },
        {
         "name": "Occupation",
         "rawType": "object",
         "type": "string"
        },
        {
         "name": "Sleep Duration",
         "rawType": "float64",
         "type": "float"
        },
        {
         "name": "Quality of Sleep",
         "rawType": "int64",
         "type": "integer"
        },
        {
         "name": "Physical Activity Level",
         "rawType": "int64",
         "type": "integer"
        },
        {
         "name": "Stress Level",
         "rawType": "int64",
         "type": "integer"
        },
        {
         "name": "BMI Category",
         "rawType": "object",
         "type": "string"
        },
        {
         "name": "Blood Pressure",
         "rawType": "object",
         "type": "string"
        },
        {
         "name": "Heart Rate",
         "rawType": "int64",
         "type": "integer"
        },
        {
         "name": "Daily Steps",
         "rawType": "int64",
         "type": "integer"
        },
        {
         "name": "Sleep Disorder",
         "rawType": "object",
         "type": "unknown"
        }
       ],
       "conversionMethod": "pd.DataFrame",
       "ref": "7e0d67da-eb19-4cba-8881-16c8651c1c8c",
       "rows": [
        [
         "0",
         "1",
         "Male",
         "27",
         "Software Engineer",
         "6.1",
         "6",
         "42",
         "6",
         "Overweight",
         "126/83",
         "77",
         "4200",
         null
        ],
        [
         "1",
         "2",
         "Male",
         "28",
         "Doctor",
         "6.2",
         "6",
         "60",
         "8",
         "Normal",
         "125/80",
         "75",
         "10000",
         null
        ],
        [
         "2",
         "3",
         "Male",
         "28",
         "Doctor",
         "6.2",
         "6",
         "60",
         "8",
         "Normal",
         "125/80",
         "75",
         "10000",
         null
        ],
        [
         "3",
         "4",
         "Male",
         "28",
         "Sales Representative",
         "5.9",
         "4",
         "30",
         "8",
         "Obese",
         "140/90",
         "85",
         "3000",
         "Sleep Apnea"
        ],
        [
         "4",
         "5",
         "Male",
         "28",
         "Sales Representative",
         "5.9",
         "4",
         "30",
         "8",
         "Obese",
         "140/90",
         "85",
         "3000",
         "Sleep Apnea"
        ]
       ],
       "shape": {
        "columns": 13,
        "rows": 5
       }
      },
      "text/html": [
       "<div>\n",
       "<style scoped>\n",
       "    .dataframe tbody tr th:only-of-type {\n",
       "        vertical-align: middle;\n",
       "    }\n",
       "\n",
       "    .dataframe tbody tr th {\n",
       "        vertical-align: top;\n",
       "    }\n",
       "\n",
       "    .dataframe thead th {\n",
       "        text-align: right;\n",
       "    }\n",
       "</style>\n",
       "<table border=\"1\" class=\"dataframe\">\n",
       "  <thead>\n",
       "    <tr style=\"text-align: right;\">\n",
       "      <th></th>\n",
       "      <th>Person ID</th>\n",
       "      <th>Gender</th>\n",
       "      <th>Age</th>\n",
       "      <th>Occupation</th>\n",
       "      <th>Sleep Duration</th>\n",
       "      <th>Quality of Sleep</th>\n",
       "      <th>Physical Activity Level</th>\n",
       "      <th>Stress Level</th>\n",
       "      <th>BMI Category</th>\n",
       "      <th>Blood Pressure</th>\n",
       "      <th>Heart Rate</th>\n",
       "      <th>Daily Steps</th>\n",
       "      <th>Sleep Disorder</th>\n",
       "    </tr>\n",
       "  </thead>\n",
       "  <tbody>\n",
       "    <tr>\n",
       "      <th>0</th>\n",
       "      <td>1</td>\n",
       "      <td>Male</td>\n",
       "      <td>27</td>\n",
       "      <td>Software Engineer</td>\n",
       "      <td>6.1</td>\n",
       "      <td>6</td>\n",
       "      <td>42</td>\n",
       "      <td>6</td>\n",
       "      <td>Overweight</td>\n",
       "      <td>126/83</td>\n",
       "      <td>77</td>\n",
       "      <td>4200</td>\n",
       "      <td>NaN</td>\n",
       "    </tr>\n",
       "    <tr>\n",
       "      <th>1</th>\n",
       "      <td>2</td>\n",
       "      <td>Male</td>\n",
       "      <td>28</td>\n",
       "      <td>Doctor</td>\n",
       "      <td>6.2</td>\n",
       "      <td>6</td>\n",
       "      <td>60</td>\n",
       "      <td>8</td>\n",
       "      <td>Normal</td>\n",
       "      <td>125/80</td>\n",
       "      <td>75</td>\n",
       "      <td>10000</td>\n",
       "      <td>NaN</td>\n",
       "    </tr>\n",
       "    <tr>\n",
       "      <th>2</th>\n",
       "      <td>3</td>\n",
       "      <td>Male</td>\n",
       "      <td>28</td>\n",
       "      <td>Doctor</td>\n",
       "      <td>6.2</td>\n",
       "      <td>6</td>\n",
       "      <td>60</td>\n",
       "      <td>8</td>\n",
       "      <td>Normal</td>\n",
       "      <td>125/80</td>\n",
       "      <td>75</td>\n",
       "      <td>10000</td>\n",
       "      <td>NaN</td>\n",
       "    </tr>\n",
       "    <tr>\n",
       "      <th>3</th>\n",
       "      <td>4</td>\n",
       "      <td>Male</td>\n",
       "      <td>28</td>\n",
       "      <td>Sales Representative</td>\n",
       "      <td>5.9</td>\n",
       "      <td>4</td>\n",
       "      <td>30</td>\n",
       "      <td>8</td>\n",
       "      <td>Obese</td>\n",
       "      <td>140/90</td>\n",
       "      <td>85</td>\n",
       "      <td>3000</td>\n",
       "      <td>Sleep Apnea</td>\n",
       "    </tr>\n",
       "    <tr>\n",
       "      <th>4</th>\n",
       "      <td>5</td>\n",
       "      <td>Male</td>\n",
       "      <td>28</td>\n",
       "      <td>Sales Representative</td>\n",
       "      <td>5.9</td>\n",
       "      <td>4</td>\n",
       "      <td>30</td>\n",
       "      <td>8</td>\n",
       "      <td>Obese</td>\n",
       "      <td>140/90</td>\n",
       "      <td>85</td>\n",
       "      <td>3000</td>\n",
       "      <td>Sleep Apnea</td>\n",
       "    </tr>\n",
       "  </tbody>\n",
       "</table>\n",
       "</div>"
      ],
      "text/plain": [
       "   Person ID Gender  Age            Occupation  Sleep Duration  \\\n",
       "0          1   Male   27     Software Engineer             6.1   \n",
       "1          2   Male   28                Doctor             6.2   \n",
       "2          3   Male   28                Doctor             6.2   \n",
       "3          4   Male   28  Sales Representative             5.9   \n",
       "4          5   Male   28  Sales Representative             5.9   \n",
       "\n",
       "   Quality of Sleep  Physical Activity Level  Stress Level BMI Category  \\\n",
       "0                 6                       42             6   Overweight   \n",
       "1                 6                       60             8       Normal   \n",
       "2                 6                       60             8       Normal   \n",
       "3                 4                       30             8        Obese   \n",
       "4                 4                       30             8        Obese   \n",
       "\n",
       "  Blood Pressure  Heart Rate  Daily Steps Sleep Disorder  \n",
       "0         126/83          77         4200            NaN  \n",
       "1         125/80          75        10000            NaN  \n",
       "2         125/80          75        10000            NaN  \n",
       "3         140/90          85         3000    Sleep Apnea  \n",
       "4         140/90          85         3000    Sleep Apnea  "
      ]
     },
     "execution_count": 4,
     "metadata": {},
     "output_type": "execute_result"
    }
   ],
   "source": [
    "df = pd.read_csv('Sleep_health_and_lifestyle_dataset.csv')\n",
    "df.head() #method is a quick and simple way to preview the first few rows of your dataset."
   ]
  },
  {
   "cell_type": "code",
   "execution_count": 5,
   "id": "6e92aab7",
   "metadata": {},
   "outputs": [
    {
     "data": {
      "application/vnd.microsoft.datawrangler.viewer.v0+json": {
       "columns": [
        {
         "name": "index",
         "rawType": "int64",
         "type": "integer"
        },
        {
         "name": "Person ID",
         "rawType": "int64",
         "type": "integer"
        },
        {
         "name": "Gender",
         "rawType": "object",
         "type": "string"
        },
        {
         "name": "Age",
         "rawType": "int64",
         "type": "integer"
        },
        {
         "name": "Occupation",
         "rawType": "object",
         "type": "string"
        },
        {
         "name": "Sleep Duration",
         "rawType": "float64",
         "type": "float"
        },
        {
         "name": "Quality of Sleep",
         "rawType": "int64",
         "type": "integer"
        },
        {
         "name": "Physical Activity Level",
         "rawType": "int64",
         "type": "integer"
        },
        {
         "name": "Stress Level",
         "rawType": "int64",
         "type": "integer"
        },
        {
         "name": "BMI Category",
         "rawType": "object",
         "type": "string"
        },
        {
         "name": "Blood Pressure",
         "rawType": "object",
         "type": "string"
        },
        {
         "name": "Heart Rate",
         "rawType": "int64",
         "type": "integer"
        },
        {
         "name": "Daily Steps",
         "rawType": "int64",
         "type": "integer"
        },
        {
         "name": "Sleep Disorder",
         "rawType": "object",
         "type": "string"
        }
       ],
       "conversionMethod": "pd.DataFrame",
       "ref": "2920664e-1ad6-4e3f-a54a-231a66b0afb7",
       "rows": [
        [
         "369",
         "370",
         "Female",
         "59",
         "Nurse",
         "8.1",
         "9",
         "75",
         "3",
         "Overweight",
         "140/95",
         "68",
         "7000",
         "Sleep Apnea"
        ],
        [
         "370",
         "371",
         "Female",
         "59",
         "Nurse",
         "8.0",
         "9",
         "75",
         "3",
         "Overweight",
         "140/95",
         "68",
         "7000",
         "Sleep Apnea"
        ],
        [
         "371",
         "372",
         "Female",
         "59",
         "Nurse",
         "8.1",
         "9",
         "75",
         "3",
         "Overweight",
         "140/95",
         "68",
         "7000",
         "Sleep Apnea"
        ],
        [
         "372",
         "373",
         "Female",
         "59",
         "Nurse",
         "8.1",
         "9",
         "75",
         "3",
         "Overweight",
         "140/95",
         "68",
         "7000",
         "Sleep Apnea"
        ],
        [
         "373",
         "374",
         "Female",
         "59",
         "Nurse",
         "8.1",
         "9",
         "75",
         "3",
         "Overweight",
         "140/95",
         "68",
         "7000",
         "Sleep Apnea"
        ]
       ],
       "shape": {
        "columns": 13,
        "rows": 5
       }
      },
      "text/html": [
       "<div>\n",
       "<style scoped>\n",
       "    .dataframe tbody tr th:only-of-type {\n",
       "        vertical-align: middle;\n",
       "    }\n",
       "\n",
       "    .dataframe tbody tr th {\n",
       "        vertical-align: top;\n",
       "    }\n",
       "\n",
       "    .dataframe thead th {\n",
       "        text-align: right;\n",
       "    }\n",
       "</style>\n",
       "<table border=\"1\" class=\"dataframe\">\n",
       "  <thead>\n",
       "    <tr style=\"text-align: right;\">\n",
       "      <th></th>\n",
       "      <th>Person ID</th>\n",
       "      <th>Gender</th>\n",
       "      <th>Age</th>\n",
       "      <th>Occupation</th>\n",
       "      <th>Sleep Duration</th>\n",
       "      <th>Quality of Sleep</th>\n",
       "      <th>Physical Activity Level</th>\n",
       "      <th>Stress Level</th>\n",
       "      <th>BMI Category</th>\n",
       "      <th>Blood Pressure</th>\n",
       "      <th>Heart Rate</th>\n",
       "      <th>Daily Steps</th>\n",
       "      <th>Sleep Disorder</th>\n",
       "    </tr>\n",
       "  </thead>\n",
       "  <tbody>\n",
       "    <tr>\n",
       "      <th>369</th>\n",
       "      <td>370</td>\n",
       "      <td>Female</td>\n",
       "      <td>59</td>\n",
       "      <td>Nurse</td>\n",
       "      <td>8.1</td>\n",
       "      <td>9</td>\n",
       "      <td>75</td>\n",
       "      <td>3</td>\n",
       "      <td>Overweight</td>\n",
       "      <td>140/95</td>\n",
       "      <td>68</td>\n",
       "      <td>7000</td>\n",
       "      <td>Sleep Apnea</td>\n",
       "    </tr>\n",
       "    <tr>\n",
       "      <th>370</th>\n",
       "      <td>371</td>\n",
       "      <td>Female</td>\n",
       "      <td>59</td>\n",
       "      <td>Nurse</td>\n",
       "      <td>8.0</td>\n",
       "      <td>9</td>\n",
       "      <td>75</td>\n",
       "      <td>3</td>\n",
       "      <td>Overweight</td>\n",
       "      <td>140/95</td>\n",
       "      <td>68</td>\n",
       "      <td>7000</td>\n",
       "      <td>Sleep Apnea</td>\n",
       "    </tr>\n",
       "    <tr>\n",
       "      <th>371</th>\n",
       "      <td>372</td>\n",
       "      <td>Female</td>\n",
       "      <td>59</td>\n",
       "      <td>Nurse</td>\n",
       "      <td>8.1</td>\n",
       "      <td>9</td>\n",
       "      <td>75</td>\n",
       "      <td>3</td>\n",
       "      <td>Overweight</td>\n",
       "      <td>140/95</td>\n",
       "      <td>68</td>\n",
       "      <td>7000</td>\n",
       "      <td>Sleep Apnea</td>\n",
       "    </tr>\n",
       "    <tr>\n",
       "      <th>372</th>\n",
       "      <td>373</td>\n",
       "      <td>Female</td>\n",
       "      <td>59</td>\n",
       "      <td>Nurse</td>\n",
       "      <td>8.1</td>\n",
       "      <td>9</td>\n",
       "      <td>75</td>\n",
       "      <td>3</td>\n",
       "      <td>Overweight</td>\n",
       "      <td>140/95</td>\n",
       "      <td>68</td>\n",
       "      <td>7000</td>\n",
       "      <td>Sleep Apnea</td>\n",
       "    </tr>\n",
       "    <tr>\n",
       "      <th>373</th>\n",
       "      <td>374</td>\n",
       "      <td>Female</td>\n",
       "      <td>59</td>\n",
       "      <td>Nurse</td>\n",
       "      <td>8.1</td>\n",
       "      <td>9</td>\n",
       "      <td>75</td>\n",
       "      <td>3</td>\n",
       "      <td>Overweight</td>\n",
       "      <td>140/95</td>\n",
       "      <td>68</td>\n",
       "      <td>7000</td>\n",
       "      <td>Sleep Apnea</td>\n",
       "    </tr>\n",
       "  </tbody>\n",
       "</table>\n",
       "</div>"
      ],
      "text/plain": [
       "     Person ID  Gender  Age Occupation  Sleep Duration  Quality of Sleep  \\\n",
       "369        370  Female   59      Nurse             8.1                 9   \n",
       "370        371  Female   59      Nurse             8.0                 9   \n",
       "371        372  Female   59      Nurse             8.1                 9   \n",
       "372        373  Female   59      Nurse             8.1                 9   \n",
       "373        374  Female   59      Nurse             8.1                 9   \n",
       "\n",
       "     Physical Activity Level  Stress Level BMI Category Blood Pressure  \\\n",
       "369                       75             3   Overweight         140/95   \n",
       "370                       75             3   Overweight         140/95   \n",
       "371                       75             3   Overweight         140/95   \n",
       "372                       75             3   Overweight         140/95   \n",
       "373                       75             3   Overweight         140/95   \n",
       "\n",
       "     Heart Rate  Daily Steps Sleep Disorder  \n",
       "369          68         7000    Sleep Apnea  \n",
       "370          68         7000    Sleep Apnea  \n",
       "371          68         7000    Sleep Apnea  \n",
       "372          68         7000    Sleep Apnea  \n",
       "373          68         7000    Sleep Apnea  "
      ]
     },
     "execution_count": 5,
     "metadata": {},
     "output_type": "execute_result"
    }
   ],
   "source": [
    "df.tail() #method is a quick and simple way to preview the last few rows of your dataset."
   ]
  },
  {
   "cell_type": "code",
   "execution_count": 6,
   "id": "f53765d3",
   "metadata": {},
   "outputs": [
    {
     "name": "stdout",
     "output_type": "stream",
     "text": [
      "<class 'pandas.core.frame.DataFrame'>\n",
      "RangeIndex: 374 entries, 0 to 373\n",
      "Data columns (total 13 columns):\n",
      " #   Column                   Non-Null Count  Dtype  \n",
      "---  ------                   --------------  -----  \n",
      " 0   Person ID                374 non-null    int64  \n",
      " 1   Gender                   374 non-null    object \n",
      " 2   Age                      374 non-null    int64  \n",
      " 3   Occupation               374 non-null    object \n",
      " 4   Sleep Duration           374 non-null    float64\n",
      " 5   Quality of Sleep         374 non-null    int64  \n",
      " 6   Physical Activity Level  374 non-null    int64  \n",
      " 7   Stress Level             374 non-null    int64  \n",
      " 8   BMI Category             374 non-null    object \n",
      " 9   Blood Pressure           374 non-null    object \n",
      " 10  Heart Rate               374 non-null    int64  \n",
      " 11  Daily Steps              374 non-null    int64  \n",
      " 12  Sleep Disorder           155 non-null    object \n",
      "dtypes: float64(1), int64(7), object(5)\n",
      "memory usage: 38.1+ KB\n"
     ]
    }
   ],
   "source": [
    "df.info() # it gives us an overview of the dataset structure"
   ]
  },
  {
   "cell_type": "markdown",
   "id": "71da71ba",
   "metadata": {},
   "source": [
    "## 🧾 Data Summary\n",
    "The dataset consists of 374 entries and 13 columns.\n",
    "\n",
    "Most columns are complete, with 374 non-null values, except:\n",
    "\n",
    "Sleep Disorder column has only 155 non-null values, which indicates substantial missing data in this target variable.\n",
    "\n",
    "Data types:\n",
    "\n",
    "Categorical variables (object): Gender, Occupation, BMI Category, Blood Pressure, Sleep Disorder\n",
    "\n",
    "Numerical variables (int64/float64): Age, Sleep Duration, Quality of Sleep, Physical Activity Level, Stress Level, Heart Rate, Daily Steps"
   ]
  },
  {
   "cell_type": "code",
   "execution_count": 7,
   "id": "6c8e703b",
   "metadata": {},
   "outputs": [
    {
     "data": {
      "application/vnd.microsoft.datawrangler.viewer.v0+json": {
       "columns": [
        {
         "name": "index",
         "rawType": "int64",
         "type": "integer"
        },
        {
         "name": "Person ID",
         "rawType": "int64",
         "type": "integer"
        },
        {
         "name": "Gender",
         "rawType": "object",
         "type": "string"
        },
        {
         "name": "Age",
         "rawType": "int64",
         "type": "integer"
        },
        {
         "name": "Occupation",
         "rawType": "object",
         "type": "string"
        },
        {
         "name": "Sleep Duration",
         "rawType": "float64",
         "type": "float"
        },
        {
         "name": "Quality of Sleep",
         "rawType": "int64",
         "type": "integer"
        },
        {
         "name": "Physical Activity Level",
         "rawType": "int64",
         "type": "integer"
        },
        {
         "name": "Stress Level",
         "rawType": "int64",
         "type": "integer"
        },
        {
         "name": "BMI Category",
         "rawType": "object",
         "type": "string"
        },
        {
         "name": "Blood Pressure",
         "rawType": "object",
         "type": "string"
        },
        {
         "name": "Heart Rate",
         "rawType": "int64",
         "type": "integer"
        },
        {
         "name": "Daily Steps",
         "rawType": "int64",
         "type": "integer"
        },
        {
         "name": "Sleep Disorder",
         "rawType": "object",
         "type": "string"
        }
       ],
       "conversionMethod": "pd.DataFrame",
       "ref": "0b1af4f4-91ac-4bb5-95a0-e4e38b97598a",
       "rows": [
        [
         "0",
         "1",
         "Male",
         "27",
         "Software Engineer",
         "6.1",
         "6",
         "42",
         "6",
         "Overweight",
         "126/83",
         "77",
         "4200",
         "None"
        ],
        [
         "1",
         "2",
         "Male",
         "28",
         "Doctor",
         "6.2",
         "6",
         "60",
         "8",
         "Normal",
         "125/80",
         "75",
         "10000",
         "None"
        ],
        [
         "2",
         "3",
         "Male",
         "28",
         "Doctor",
         "6.2",
         "6",
         "60",
         "8",
         "Normal",
         "125/80",
         "75",
         "10000",
         "None"
        ],
        [
         "3",
         "4",
         "Male",
         "28",
         "Sales Representative",
         "5.9",
         "4",
         "30",
         "8",
         "Obese",
         "140/90",
         "85",
         "3000",
         "Sleep Apnea"
        ],
        [
         "4",
         "5",
         "Male",
         "28",
         "Sales Representative",
         "5.9",
         "4",
         "30",
         "8",
         "Obese",
         "140/90",
         "85",
         "3000",
         "Sleep Apnea"
        ]
       ],
       "shape": {
        "columns": 13,
        "rows": 5
       }
      },
      "text/html": [
       "<div>\n",
       "<style scoped>\n",
       "    .dataframe tbody tr th:only-of-type {\n",
       "        vertical-align: middle;\n",
       "    }\n",
       "\n",
       "    .dataframe tbody tr th {\n",
       "        vertical-align: top;\n",
       "    }\n",
       "\n",
       "    .dataframe thead th {\n",
       "        text-align: right;\n",
       "    }\n",
       "</style>\n",
       "<table border=\"1\" class=\"dataframe\">\n",
       "  <thead>\n",
       "    <tr style=\"text-align: right;\">\n",
       "      <th></th>\n",
       "      <th>Person ID</th>\n",
       "      <th>Gender</th>\n",
       "      <th>Age</th>\n",
       "      <th>Occupation</th>\n",
       "      <th>Sleep Duration</th>\n",
       "      <th>Quality of Sleep</th>\n",
       "      <th>Physical Activity Level</th>\n",
       "      <th>Stress Level</th>\n",
       "      <th>BMI Category</th>\n",
       "      <th>Blood Pressure</th>\n",
       "      <th>Heart Rate</th>\n",
       "      <th>Daily Steps</th>\n",
       "      <th>Sleep Disorder</th>\n",
       "    </tr>\n",
       "  </thead>\n",
       "  <tbody>\n",
       "    <tr>\n",
       "      <th>0</th>\n",
       "      <td>1</td>\n",
       "      <td>Male</td>\n",
       "      <td>27</td>\n",
       "      <td>Software Engineer</td>\n",
       "      <td>6.1</td>\n",
       "      <td>6</td>\n",
       "      <td>42</td>\n",
       "      <td>6</td>\n",
       "      <td>Overweight</td>\n",
       "      <td>126/83</td>\n",
       "      <td>77</td>\n",
       "      <td>4200</td>\n",
       "      <td>None</td>\n",
       "    </tr>\n",
       "    <tr>\n",
       "      <th>1</th>\n",
       "      <td>2</td>\n",
       "      <td>Male</td>\n",
       "      <td>28</td>\n",
       "      <td>Doctor</td>\n",
       "      <td>6.2</td>\n",
       "      <td>6</td>\n",
       "      <td>60</td>\n",
       "      <td>8</td>\n",
       "      <td>Normal</td>\n",
       "      <td>125/80</td>\n",
       "      <td>75</td>\n",
       "      <td>10000</td>\n",
       "      <td>None</td>\n",
       "    </tr>\n",
       "    <tr>\n",
       "      <th>2</th>\n",
       "      <td>3</td>\n",
       "      <td>Male</td>\n",
       "      <td>28</td>\n",
       "      <td>Doctor</td>\n",
       "      <td>6.2</td>\n",
       "      <td>6</td>\n",
       "      <td>60</td>\n",
       "      <td>8</td>\n",
       "      <td>Normal</td>\n",
       "      <td>125/80</td>\n",
       "      <td>75</td>\n",
       "      <td>10000</td>\n",
       "      <td>None</td>\n",
       "    </tr>\n",
       "    <tr>\n",
       "      <th>3</th>\n",
       "      <td>4</td>\n",
       "      <td>Male</td>\n",
       "      <td>28</td>\n",
       "      <td>Sales Representative</td>\n",
       "      <td>5.9</td>\n",
       "      <td>4</td>\n",
       "      <td>30</td>\n",
       "      <td>8</td>\n",
       "      <td>Obese</td>\n",
       "      <td>140/90</td>\n",
       "      <td>85</td>\n",
       "      <td>3000</td>\n",
       "      <td>Sleep Apnea</td>\n",
       "    </tr>\n",
       "    <tr>\n",
       "      <th>4</th>\n",
       "      <td>5</td>\n",
       "      <td>Male</td>\n",
       "      <td>28</td>\n",
       "      <td>Sales Representative</td>\n",
       "      <td>5.9</td>\n",
       "      <td>4</td>\n",
       "      <td>30</td>\n",
       "      <td>8</td>\n",
       "      <td>Obese</td>\n",
       "      <td>140/90</td>\n",
       "      <td>85</td>\n",
       "      <td>3000</td>\n",
       "      <td>Sleep Apnea</td>\n",
       "    </tr>\n",
       "  </tbody>\n",
       "</table>\n",
       "</div>"
      ],
      "text/plain": [
       "   Person ID Gender  Age            Occupation  Sleep Duration  \\\n",
       "0          1   Male   27     Software Engineer             6.1   \n",
       "1          2   Male   28                Doctor             6.2   \n",
       "2          3   Male   28                Doctor             6.2   \n",
       "3          4   Male   28  Sales Representative             5.9   \n",
       "4          5   Male   28  Sales Representative             5.9   \n",
       "\n",
       "   Quality of Sleep  Physical Activity Level  Stress Level BMI Category  \\\n",
       "0                 6                       42             6   Overweight   \n",
       "1                 6                       60             8       Normal   \n",
       "2                 6                       60             8       Normal   \n",
       "3                 4                       30             8        Obese   \n",
       "4                 4                       30             8        Obese   \n",
       "\n",
       "  Blood Pressure  Heart Rate  Daily Steps Sleep Disorder  \n",
       "0         126/83          77         4200           None  \n",
       "1         125/80          75        10000           None  \n",
       "2         125/80          75        10000           None  \n",
       "3         140/90          85         3000    Sleep Apnea  \n",
       "4         140/90          85         3000    Sleep Apnea  "
      ]
     },
     "execution_count": 7,
     "metadata": {},
     "output_type": "execute_result"
    }
   ],
   "source": [
    "df['Sleep Disorder'] = df['Sleep Disorder'].fillna(\"None\")\n",
    "df.head()\n"
   ]
  },
  {
   "cell_type": "code",
   "execution_count": 8,
   "id": "c7dd6242",
   "metadata": {},
   "outputs": [
    {
     "data": {
      "application/vnd.microsoft.datawrangler.viewer.v0+json": {
       "columns": [
        {
         "name": "index",
         "rawType": "object",
         "type": "string"
        },
        {
         "name": "Person ID",
         "rawType": "float64",
         "type": "float"
        },
        {
         "name": "Age",
         "rawType": "float64",
         "type": "float"
        },
        {
         "name": "Sleep Duration",
         "rawType": "float64",
         "type": "float"
        },
        {
         "name": "Quality of Sleep",
         "rawType": "float64",
         "type": "float"
        },
        {
         "name": "Physical Activity Level",
         "rawType": "float64",
         "type": "float"
        },
        {
         "name": "Stress Level",
         "rawType": "float64",
         "type": "float"
        },
        {
         "name": "Heart Rate",
         "rawType": "float64",
         "type": "float"
        },
        {
         "name": "Daily Steps",
         "rawType": "float64",
         "type": "float"
        }
       ],
       "conversionMethod": "pd.DataFrame",
       "ref": "900669ed-9d6b-4b5f-beb5-9027b2d44a5c",
       "rows": [
        [
         "count",
         "374.0",
         "374.0",
         "374.0",
         "374.0",
         "374.0",
         "374.0",
         "374.0",
         "374.0"
        ],
        [
         "mean",
         "187.5",
         "42.18449197860963",
         "7.132085561497325",
         "7.31283422459893",
         "59.17112299465241",
         "5.385026737967914",
         "70.16577540106952",
         "6816.844919786096"
        ],
        [
         "std",
         "108.10874155219827",
         "8.67313346554724",
         "0.7956567308898188",
         "1.1969559197336044",
         "20.830803658071673",
         "1.7745264441985167",
         "4.135675535112214",
         "1617.915679133637"
        ],
        [
         "min",
         "1.0",
         "27.0",
         "5.8",
         "4.0",
         "30.0",
         "3.0",
         "65.0",
         "3000.0"
        ],
        [
         "25%",
         "94.25",
         "35.25",
         "6.4",
         "6.0",
         "45.0",
         "4.0",
         "68.0",
         "5600.0"
        ],
        [
         "50%",
         "187.5",
         "43.0",
         "7.2",
         "7.0",
         "60.0",
         "5.0",
         "70.0",
         "7000.0"
        ],
        [
         "75%",
         "280.75",
         "50.0",
         "7.8",
         "8.0",
         "75.0",
         "7.0",
         "72.0",
         "8000.0"
        ],
        [
         "max",
         "374.0",
         "59.0",
         "8.5",
         "9.0",
         "90.0",
         "8.0",
         "86.0",
         "10000.0"
        ]
       ],
       "shape": {
        "columns": 8,
        "rows": 8
       }
      },
      "text/html": [
       "<div>\n",
       "<style scoped>\n",
       "    .dataframe tbody tr th:only-of-type {\n",
       "        vertical-align: middle;\n",
       "    }\n",
       "\n",
       "    .dataframe tbody tr th {\n",
       "        vertical-align: top;\n",
       "    }\n",
       "\n",
       "    .dataframe thead th {\n",
       "        text-align: right;\n",
       "    }\n",
       "</style>\n",
       "<table border=\"1\" class=\"dataframe\">\n",
       "  <thead>\n",
       "    <tr style=\"text-align: right;\">\n",
       "      <th></th>\n",
       "      <th>Person ID</th>\n",
       "      <th>Age</th>\n",
       "      <th>Sleep Duration</th>\n",
       "      <th>Quality of Sleep</th>\n",
       "      <th>Physical Activity Level</th>\n",
       "      <th>Stress Level</th>\n",
       "      <th>Heart Rate</th>\n",
       "      <th>Daily Steps</th>\n",
       "    </tr>\n",
       "  </thead>\n",
       "  <tbody>\n",
       "    <tr>\n",
       "      <th>count</th>\n",
       "      <td>374.000000</td>\n",
       "      <td>374.000000</td>\n",
       "      <td>374.000000</td>\n",
       "      <td>374.000000</td>\n",
       "      <td>374.000000</td>\n",
       "      <td>374.000000</td>\n",
       "      <td>374.000000</td>\n",
       "      <td>374.000000</td>\n",
       "    </tr>\n",
       "    <tr>\n",
       "      <th>mean</th>\n",
       "      <td>187.500000</td>\n",
       "      <td>42.184492</td>\n",
       "      <td>7.132086</td>\n",
       "      <td>7.312834</td>\n",
       "      <td>59.171123</td>\n",
       "      <td>5.385027</td>\n",
       "      <td>70.165775</td>\n",
       "      <td>6816.844920</td>\n",
       "    </tr>\n",
       "    <tr>\n",
       "      <th>std</th>\n",
       "      <td>108.108742</td>\n",
       "      <td>8.673133</td>\n",
       "      <td>0.795657</td>\n",
       "      <td>1.196956</td>\n",
       "      <td>20.830804</td>\n",
       "      <td>1.774526</td>\n",
       "      <td>4.135676</td>\n",
       "      <td>1617.915679</td>\n",
       "    </tr>\n",
       "    <tr>\n",
       "      <th>min</th>\n",
       "      <td>1.000000</td>\n",
       "      <td>27.000000</td>\n",
       "      <td>5.800000</td>\n",
       "      <td>4.000000</td>\n",
       "      <td>30.000000</td>\n",
       "      <td>3.000000</td>\n",
       "      <td>65.000000</td>\n",
       "      <td>3000.000000</td>\n",
       "    </tr>\n",
       "    <tr>\n",
       "      <th>25%</th>\n",
       "      <td>94.250000</td>\n",
       "      <td>35.250000</td>\n",
       "      <td>6.400000</td>\n",
       "      <td>6.000000</td>\n",
       "      <td>45.000000</td>\n",
       "      <td>4.000000</td>\n",
       "      <td>68.000000</td>\n",
       "      <td>5600.000000</td>\n",
       "    </tr>\n",
       "    <tr>\n",
       "      <th>50%</th>\n",
       "      <td>187.500000</td>\n",
       "      <td>43.000000</td>\n",
       "      <td>7.200000</td>\n",
       "      <td>7.000000</td>\n",
       "      <td>60.000000</td>\n",
       "      <td>5.000000</td>\n",
       "      <td>70.000000</td>\n",
       "      <td>7000.000000</td>\n",
       "    </tr>\n",
       "    <tr>\n",
       "      <th>75%</th>\n",
       "      <td>280.750000</td>\n",
       "      <td>50.000000</td>\n",
       "      <td>7.800000</td>\n",
       "      <td>8.000000</td>\n",
       "      <td>75.000000</td>\n",
       "      <td>7.000000</td>\n",
       "      <td>72.000000</td>\n",
       "      <td>8000.000000</td>\n",
       "    </tr>\n",
       "    <tr>\n",
       "      <th>max</th>\n",
       "      <td>374.000000</td>\n",
       "      <td>59.000000</td>\n",
       "      <td>8.500000</td>\n",
       "      <td>9.000000</td>\n",
       "      <td>90.000000</td>\n",
       "      <td>8.000000</td>\n",
       "      <td>86.000000</td>\n",
       "      <td>10000.000000</td>\n",
       "    </tr>\n",
       "  </tbody>\n",
       "</table>\n",
       "</div>"
      ],
      "text/plain": [
       "        Person ID         Age  Sleep Duration  Quality of Sleep  \\\n",
       "count  374.000000  374.000000      374.000000        374.000000   \n",
       "mean   187.500000   42.184492        7.132086          7.312834   \n",
       "std    108.108742    8.673133        0.795657          1.196956   \n",
       "min      1.000000   27.000000        5.800000          4.000000   \n",
       "25%     94.250000   35.250000        6.400000          6.000000   \n",
       "50%    187.500000   43.000000        7.200000          7.000000   \n",
       "75%    280.750000   50.000000        7.800000          8.000000   \n",
       "max    374.000000   59.000000        8.500000          9.000000   \n",
       "\n",
       "       Physical Activity Level  Stress Level  Heart Rate   Daily Steps  \n",
       "count               374.000000    374.000000  374.000000    374.000000  \n",
       "mean                 59.171123      5.385027   70.165775   6816.844920  \n",
       "std                  20.830804      1.774526    4.135676   1617.915679  \n",
       "min                  30.000000      3.000000   65.000000   3000.000000  \n",
       "25%                  45.000000      4.000000   68.000000   5600.000000  \n",
       "50%                  60.000000      5.000000   70.000000   7000.000000  \n",
       "75%                  75.000000      7.000000   72.000000   8000.000000  \n",
       "max                  90.000000      8.000000   86.000000  10000.000000  "
      ]
     },
     "execution_count": 8,
     "metadata": {},
     "output_type": "execute_result"
    }
   ],
   "source": [
    "df.describe() #.describe() method provides summary statistics for each numerical column in our dataset"
   ]
  },
  {
   "cell_type": "markdown",
   "id": "f15f38ad",
   "metadata": {},
   "source": [
    "## 📊 General Observations\n",
    "1. Age\n",
    "Average age: 42.18\n",
    "\n",
    "Minimum: 27, Maximum: 59\n",
    "\n",
    "Median: 43\n",
    "→ This indicates that most participants are between the ages of 30-50.\n",
    "\n",
    "2. Sleep Duration (Hours)\n",
    "Average: 7.13 hours\n",
    "\n",
    "Minimum: 5.8 hours\n",
    "\n",
    "Maximum: 8.5 hours\n",
    "\n",
    "Standard deviation: 0.8\n",
    "→ The distribution of sleep duration is quite narrow; most people sleep between 6–8 hours.\n",
    "\n",
    "3. Quality of Sleep (Average: 7.31 /10)\n",
    "\n",
    "Minimum: 4\n",
    "\n",
    "Maximum: 9\n",
    "→ Sleep quality is generally high, but there are a few low scores."
   ]
  },
  {
   "cell_type": "code",
   "execution_count": 9,
   "id": "738a47c3",
   "metadata": {},
   "outputs": [
    {
     "data": {
      "application/vnd.microsoft.datawrangler.viewer.v0+json": {
       "columns": [
        {
         "name": "index",
         "rawType": "int64",
         "type": "integer"
        },
        {
         "name": "Person ID",
         "rawType": "int64",
         "type": "integer"
        },
        {
         "name": "Gender",
         "rawType": "object",
         "type": "string"
        },
        {
         "name": "Age",
         "rawType": "int64",
         "type": "integer"
        },
        {
         "name": "Occupation",
         "rawType": "object",
         "type": "string"
        },
        {
         "name": "Sleep Duration",
         "rawType": "float64",
         "type": "float"
        },
        {
         "name": "Quality of Sleep",
         "rawType": "int64",
         "type": "integer"
        },
        {
         "name": "Physical Activity Level",
         "rawType": "int64",
         "type": "integer"
        },
        {
         "name": "Stress Level",
         "rawType": "int64",
         "type": "integer"
        },
        {
         "name": "BMI Category",
         "rawType": "object",
         "type": "string"
        },
        {
         "name": "Blood Pressure",
         "rawType": "object",
         "type": "string"
        },
        {
         "name": "Heart Rate",
         "rawType": "int64",
         "type": "integer"
        },
        {
         "name": "Daily Steps",
         "rawType": "int64",
         "type": "integer"
        },
        {
         "name": "Sleep Disorder",
         "rawType": "object",
         "type": "string"
        }
       ],
       "conversionMethod": "pd.DataFrame",
       "ref": "dc49ab9c-7d5f-448b-a3a4-affc0fc56d0e",
       "rows": [
        [
         "0",
         "1",
         "Male",
         "27",
         "Software Engineer",
         "6.1",
         "6",
         "42",
         "6",
         "Overweight",
         "126/83",
         "77",
         "4200",
         "None"
        ],
        [
         "1",
         "2",
         "Male",
         "28",
         "Doctor",
         "6.2",
         "6",
         "60",
         "8",
         "Normal",
         "125/80",
         "75",
         "10000",
         "None"
        ],
        [
         "2",
         "3",
         "Male",
         "28",
         "Doctor",
         "6.2",
         "6",
         "60",
         "8",
         "Normal",
         "125/80",
         "75",
         "10000",
         "None"
        ],
        [
         "3",
         "4",
         "Male",
         "28",
         "Sales Representative",
         "5.9",
         "4",
         "30",
         "8",
         "Obese",
         "140/90",
         "85",
         "3000",
         "Sleep Apnea"
        ],
        [
         "4",
         "5",
         "Male",
         "28",
         "Sales Representative",
         "5.9",
         "4",
         "30",
         "8",
         "Obese",
         "140/90",
         "85",
         "3000",
         "Sleep Apnea"
        ],
        [
         "5",
         "6",
         "Male",
         "28",
         "Software Engineer",
         "5.9",
         "4",
         "30",
         "8",
         "Obese",
         "140/90",
         "85",
         "3000",
         "Insomnia"
        ],
        [
         "6",
         "7",
         "Male",
         "29",
         "Teacher",
         "6.3",
         "6",
         "40",
         "7",
         "Obese",
         "140/90",
         "82",
         "3500",
         "Insomnia"
        ],
        [
         "7",
         "8",
         "Male",
         "29",
         "Doctor",
         "7.8",
         "7",
         "75",
         "6",
         "Normal",
         "120/80",
         "70",
         "8000",
         "None"
        ],
        [
         "8",
         "9",
         "Male",
         "29",
         "Doctor",
         "7.8",
         "7",
         "75",
         "6",
         "Normal",
         "120/80",
         "70",
         "8000",
         "None"
        ],
        [
         "9",
         "10",
         "Male",
         "29",
         "Doctor",
         "7.8",
         "7",
         "75",
         "6",
         "Normal",
         "120/80",
         "70",
         "8000",
         "None"
        ],
        [
         "10",
         "11",
         "Male",
         "29",
         "Doctor",
         "6.1",
         "6",
         "30",
         "8",
         "Normal",
         "120/80",
         "70",
         "8000",
         "None"
        ],
        [
         "11",
         "12",
         "Male",
         "29",
         "Doctor",
         "7.8",
         "7",
         "75",
         "6",
         "Normal",
         "120/80",
         "70",
         "8000",
         "None"
        ],
        [
         "12",
         "13",
         "Male",
         "29",
         "Doctor",
         "6.1",
         "6",
         "30",
         "8",
         "Normal",
         "120/80",
         "70",
         "8000",
         "None"
        ],
        [
         "13",
         "14",
         "Male",
         "29",
         "Doctor",
         "6.0",
         "6",
         "30",
         "8",
         "Normal",
         "120/80",
         "70",
         "8000",
         "None"
        ],
        [
         "14",
         "15",
         "Male",
         "29",
         "Doctor",
         "6.0",
         "6",
         "30",
         "8",
         "Normal",
         "120/80",
         "70",
         "8000",
         "None"
        ],
        [
         "15",
         "16",
         "Male",
         "29",
         "Doctor",
         "6.0",
         "6",
         "30",
         "8",
         "Normal",
         "120/80",
         "70",
         "8000",
         "None"
        ],
        [
         "16",
         "17",
         "Female",
         "29",
         "Nurse",
         "6.5",
         "5",
         "40",
         "7",
         "Normal Weight",
         "132/87",
         "80",
         "4000",
         "Sleep Apnea"
        ],
        [
         "17",
         "18",
         "Male",
         "29",
         "Doctor",
         "6.0",
         "6",
         "30",
         "8",
         "Normal",
         "120/80",
         "70",
         "8000",
         "Sleep Apnea"
        ],
        [
         "18",
         "19",
         "Female",
         "29",
         "Nurse",
         "6.5",
         "5",
         "40",
         "7",
         "Normal Weight",
         "132/87",
         "80",
         "4000",
         "Insomnia"
        ],
        [
         "19",
         "20",
         "Male",
         "30",
         "Doctor",
         "7.6",
         "7",
         "75",
         "6",
         "Normal",
         "120/80",
         "70",
         "8000",
         "None"
        ],
        [
         "20",
         "21",
         "Male",
         "30",
         "Doctor",
         "7.7",
         "7",
         "75",
         "6",
         "Normal",
         "120/80",
         "70",
         "8000",
         "None"
        ],
        [
         "21",
         "22",
         "Male",
         "30",
         "Doctor",
         "7.7",
         "7",
         "75",
         "6",
         "Normal",
         "120/80",
         "70",
         "8000",
         "None"
        ],
        [
         "22",
         "23",
         "Male",
         "30",
         "Doctor",
         "7.7",
         "7",
         "75",
         "6",
         "Normal",
         "120/80",
         "70",
         "8000",
         "None"
        ],
        [
         "23",
         "24",
         "Male",
         "30",
         "Doctor",
         "7.7",
         "7",
         "75",
         "6",
         "Normal",
         "120/80",
         "70",
         "8000",
         "None"
        ],
        [
         "24",
         "25",
         "Male",
         "30",
         "Doctor",
         "7.8",
         "7",
         "75",
         "6",
         "Normal",
         "120/80",
         "70",
         "8000",
         "None"
        ],
        [
         "25",
         "26",
         "Male",
         "30",
         "Doctor",
         "7.9",
         "7",
         "75",
         "6",
         "Normal",
         "120/80",
         "70",
         "8000",
         "None"
        ],
        [
         "26",
         "27",
         "Male",
         "30",
         "Doctor",
         "7.8",
         "7",
         "75",
         "6",
         "Normal",
         "120/80",
         "70",
         "8000",
         "None"
        ],
        [
         "27",
         "28",
         "Male",
         "30",
         "Doctor",
         "7.9",
         "7",
         "75",
         "6",
         "Normal",
         "120/80",
         "70",
         "8000",
         "None"
        ],
        [
         "28",
         "29",
         "Male",
         "30",
         "Doctor",
         "7.9",
         "7",
         "75",
         "6",
         "Normal",
         "120/80",
         "70",
         "8000",
         "None"
        ],
        [
         "29",
         "30",
         "Male",
         "30",
         "Doctor",
         "7.9",
         "7",
         "75",
         "6",
         "Normal",
         "120/80",
         "70",
         "8000",
         "None"
        ],
        [
         "30",
         "31",
         "Female",
         "30",
         "Nurse",
         "6.4",
         "5",
         "35",
         "7",
         "Normal Weight",
         "130/86",
         "78",
         "4100",
         "Sleep Apnea"
        ],
        [
         "31",
         "32",
         "Female",
         "30",
         "Nurse",
         "6.4",
         "5",
         "35",
         "7",
         "Normal Weight",
         "130/86",
         "78",
         "4100",
         "Insomnia"
        ],
        [
         "32",
         "33",
         "Female",
         "31",
         "Nurse",
         "7.9",
         "8",
         "75",
         "4",
         "Normal Weight",
         "117/76",
         "69",
         "6800",
         "None"
        ],
        [
         "33",
         "34",
         "Male",
         "31",
         "Doctor",
         "6.1",
         "6",
         "30",
         "8",
         "Normal",
         "125/80",
         "72",
         "5000",
         "None"
        ],
        [
         "34",
         "35",
         "Male",
         "31",
         "Doctor",
         "7.7",
         "7",
         "75",
         "6",
         "Normal",
         "120/80",
         "70",
         "8000",
         "None"
        ],
        [
         "35",
         "36",
         "Male",
         "31",
         "Doctor",
         "6.1",
         "6",
         "30",
         "8",
         "Normal",
         "125/80",
         "72",
         "5000",
         "None"
        ],
        [
         "36",
         "37",
         "Male",
         "31",
         "Doctor",
         "6.1",
         "6",
         "30",
         "8",
         "Normal",
         "125/80",
         "72",
         "5000",
         "None"
        ],
        [
         "37",
         "38",
         "Male",
         "31",
         "Doctor",
         "7.6",
         "7",
         "75",
         "6",
         "Normal",
         "120/80",
         "70",
         "8000",
         "None"
        ],
        [
         "38",
         "39",
         "Male",
         "31",
         "Doctor",
         "7.6",
         "7",
         "75",
         "6",
         "Normal",
         "120/80",
         "70",
         "8000",
         "None"
        ],
        [
         "39",
         "40",
         "Male",
         "31",
         "Doctor",
         "7.6",
         "7",
         "75",
         "6",
         "Normal",
         "120/80",
         "70",
         "8000",
         "None"
        ],
        [
         "40",
         "41",
         "Male",
         "31",
         "Doctor",
         "7.7",
         "7",
         "75",
         "6",
         "Normal",
         "120/80",
         "70",
         "8000",
         "None"
        ],
        [
         "41",
         "42",
         "Male",
         "31",
         "Doctor",
         "7.7",
         "7",
         "75",
         "6",
         "Normal",
         "120/80",
         "70",
         "8000",
         "None"
        ],
        [
         "42",
         "43",
         "Male",
         "31",
         "Doctor",
         "7.7",
         "7",
         "75",
         "6",
         "Normal",
         "120/80",
         "70",
         "8000",
         "None"
        ],
        [
         "43",
         "44",
         "Male",
         "31",
         "Doctor",
         "7.8",
         "7",
         "75",
         "6",
         "Normal",
         "120/80",
         "70",
         "8000",
         "None"
        ],
        [
         "44",
         "45",
         "Male",
         "31",
         "Doctor",
         "7.7",
         "7",
         "75",
         "6",
         "Normal",
         "120/80",
         "70",
         "8000",
         "None"
        ],
        [
         "45",
         "46",
         "Male",
         "31",
         "Doctor",
         "7.8",
         "7",
         "75",
         "6",
         "Normal",
         "120/80",
         "70",
         "8000",
         "None"
        ],
        [
         "46",
         "47",
         "Male",
         "31",
         "Doctor",
         "7.7",
         "7",
         "75",
         "6",
         "Normal",
         "120/80",
         "70",
         "8000",
         "None"
        ],
        [
         "47",
         "48",
         "Male",
         "31",
         "Doctor",
         "7.8",
         "7",
         "75",
         "6",
         "Normal",
         "120/80",
         "70",
         "8000",
         "None"
        ],
        [
         "48",
         "49",
         "Male",
         "31",
         "Doctor",
         "7.7",
         "7",
         "75",
         "6",
         "Normal",
         "120/80",
         "70",
         "8000",
         "None"
        ],
        [
         "49",
         "50",
         "Male",
         "31",
         "Doctor",
         "7.7",
         "7",
         "75",
         "6",
         "Normal",
         "120/80",
         "70",
         "8000",
         "Sleep Apnea"
        ]
       ],
       "shape": {
        "columns": 13,
        "rows": 100
       }
      },
      "text/html": [
       "<div>\n",
       "<style scoped>\n",
       "    .dataframe tbody tr th:only-of-type {\n",
       "        vertical-align: middle;\n",
       "    }\n",
       "\n",
       "    .dataframe tbody tr th {\n",
       "        vertical-align: top;\n",
       "    }\n",
       "\n",
       "    .dataframe thead th {\n",
       "        text-align: right;\n",
       "    }\n",
       "</style>\n",
       "<table border=\"1\" class=\"dataframe\">\n",
       "  <thead>\n",
       "    <tr style=\"text-align: right;\">\n",
       "      <th></th>\n",
       "      <th>Person ID</th>\n",
       "      <th>Gender</th>\n",
       "      <th>Age</th>\n",
       "      <th>Occupation</th>\n",
       "      <th>Sleep Duration</th>\n",
       "      <th>Quality of Sleep</th>\n",
       "      <th>Physical Activity Level</th>\n",
       "      <th>Stress Level</th>\n",
       "      <th>BMI Category</th>\n",
       "      <th>Blood Pressure</th>\n",
       "      <th>Heart Rate</th>\n",
       "      <th>Daily Steps</th>\n",
       "      <th>Sleep Disorder</th>\n",
       "    </tr>\n",
       "  </thead>\n",
       "  <tbody>\n",
       "    <tr>\n",
       "      <th>0</th>\n",
       "      <td>1</td>\n",
       "      <td>Male</td>\n",
       "      <td>27</td>\n",
       "      <td>Software Engineer</td>\n",
       "      <td>6.1</td>\n",
       "      <td>6</td>\n",
       "      <td>42</td>\n",
       "      <td>6</td>\n",
       "      <td>Overweight</td>\n",
       "      <td>126/83</td>\n",
       "      <td>77</td>\n",
       "      <td>4200</td>\n",
       "      <td>None</td>\n",
       "    </tr>\n",
       "    <tr>\n",
       "      <th>1</th>\n",
       "      <td>2</td>\n",
       "      <td>Male</td>\n",
       "      <td>28</td>\n",
       "      <td>Doctor</td>\n",
       "      <td>6.2</td>\n",
       "      <td>6</td>\n",
       "      <td>60</td>\n",
       "      <td>8</td>\n",
       "      <td>Normal</td>\n",
       "      <td>125/80</td>\n",
       "      <td>75</td>\n",
       "      <td>10000</td>\n",
       "      <td>None</td>\n",
       "    </tr>\n",
       "    <tr>\n",
       "      <th>2</th>\n",
       "      <td>3</td>\n",
       "      <td>Male</td>\n",
       "      <td>28</td>\n",
       "      <td>Doctor</td>\n",
       "      <td>6.2</td>\n",
       "      <td>6</td>\n",
       "      <td>60</td>\n",
       "      <td>8</td>\n",
       "      <td>Normal</td>\n",
       "      <td>125/80</td>\n",
       "      <td>75</td>\n",
       "      <td>10000</td>\n",
       "      <td>None</td>\n",
       "    </tr>\n",
       "    <tr>\n",
       "      <th>3</th>\n",
       "      <td>4</td>\n",
       "      <td>Male</td>\n",
       "      <td>28</td>\n",
       "      <td>Sales Representative</td>\n",
       "      <td>5.9</td>\n",
       "      <td>4</td>\n",
       "      <td>30</td>\n",
       "      <td>8</td>\n",
       "      <td>Obese</td>\n",
       "      <td>140/90</td>\n",
       "      <td>85</td>\n",
       "      <td>3000</td>\n",
       "      <td>Sleep Apnea</td>\n",
       "    </tr>\n",
       "    <tr>\n",
       "      <th>4</th>\n",
       "      <td>5</td>\n",
       "      <td>Male</td>\n",
       "      <td>28</td>\n",
       "      <td>Sales Representative</td>\n",
       "      <td>5.9</td>\n",
       "      <td>4</td>\n",
       "      <td>30</td>\n",
       "      <td>8</td>\n",
       "      <td>Obese</td>\n",
       "      <td>140/90</td>\n",
       "      <td>85</td>\n",
       "      <td>3000</td>\n",
       "      <td>Sleep Apnea</td>\n",
       "    </tr>\n",
       "    <tr>\n",
       "      <th>...</th>\n",
       "      <td>...</td>\n",
       "      <td>...</td>\n",
       "      <td>...</td>\n",
       "      <td>...</td>\n",
       "      <td>...</td>\n",
       "      <td>...</td>\n",
       "      <td>...</td>\n",
       "      <td>...</td>\n",
       "      <td>...</td>\n",
       "      <td>...</td>\n",
       "      <td>...</td>\n",
       "      <td>...</td>\n",
       "      <td>...</td>\n",
       "    </tr>\n",
       "    <tr>\n",
       "      <th>95</th>\n",
       "      <td>96</td>\n",
       "      <td>Female</td>\n",
       "      <td>36</td>\n",
       "      <td>Accountant</td>\n",
       "      <td>7.1</td>\n",
       "      <td>8</td>\n",
       "      <td>60</td>\n",
       "      <td>4</td>\n",
       "      <td>Normal</td>\n",
       "      <td>115/75</td>\n",
       "      <td>68</td>\n",
       "      <td>7000</td>\n",
       "      <td>None</td>\n",
       "    </tr>\n",
       "    <tr>\n",
       "      <th>96</th>\n",
       "      <td>97</td>\n",
       "      <td>Female</td>\n",
       "      <td>36</td>\n",
       "      <td>Accountant</td>\n",
       "      <td>7.2</td>\n",
       "      <td>8</td>\n",
       "      <td>60</td>\n",
       "      <td>4</td>\n",
       "      <td>Normal</td>\n",
       "      <td>115/75</td>\n",
       "      <td>68</td>\n",
       "      <td>7000</td>\n",
       "      <td>None</td>\n",
       "    </tr>\n",
       "    <tr>\n",
       "      <th>97</th>\n",
       "      <td>98</td>\n",
       "      <td>Female</td>\n",
       "      <td>36</td>\n",
       "      <td>Accountant</td>\n",
       "      <td>7.1</td>\n",
       "      <td>8</td>\n",
       "      <td>60</td>\n",
       "      <td>4</td>\n",
       "      <td>Normal</td>\n",
       "      <td>115/75</td>\n",
       "      <td>68</td>\n",
       "      <td>7000</td>\n",
       "      <td>None</td>\n",
       "    </tr>\n",
       "    <tr>\n",
       "      <th>98</th>\n",
       "      <td>99</td>\n",
       "      <td>Female</td>\n",
       "      <td>36</td>\n",
       "      <td>Teacher</td>\n",
       "      <td>7.1</td>\n",
       "      <td>8</td>\n",
       "      <td>60</td>\n",
       "      <td>4</td>\n",
       "      <td>Normal</td>\n",
       "      <td>115/75</td>\n",
       "      <td>68</td>\n",
       "      <td>7000</td>\n",
       "      <td>None</td>\n",
       "    </tr>\n",
       "    <tr>\n",
       "      <th>99</th>\n",
       "      <td>100</td>\n",
       "      <td>Female</td>\n",
       "      <td>36</td>\n",
       "      <td>Teacher</td>\n",
       "      <td>7.1</td>\n",
       "      <td>8</td>\n",
       "      <td>60</td>\n",
       "      <td>4</td>\n",
       "      <td>Normal</td>\n",
       "      <td>115/75</td>\n",
       "      <td>68</td>\n",
       "      <td>7000</td>\n",
       "      <td>None</td>\n",
       "    </tr>\n",
       "  </tbody>\n",
       "</table>\n",
       "<p>100 rows × 13 columns</p>\n",
       "</div>"
      ],
      "text/plain": [
       "    Person ID  Gender  Age            Occupation  Sleep Duration  \\\n",
       "0           1    Male   27     Software Engineer             6.1   \n",
       "1           2    Male   28                Doctor             6.2   \n",
       "2           3    Male   28                Doctor             6.2   \n",
       "3           4    Male   28  Sales Representative             5.9   \n",
       "4           5    Male   28  Sales Representative             5.9   \n",
       "..        ...     ...  ...                   ...             ...   \n",
       "95         96  Female   36            Accountant             7.1   \n",
       "96         97  Female   36            Accountant             7.2   \n",
       "97         98  Female   36            Accountant             7.1   \n",
       "98         99  Female   36               Teacher             7.1   \n",
       "99        100  Female   36               Teacher             7.1   \n",
       "\n",
       "    Quality of Sleep  Physical Activity Level  Stress Level BMI Category  \\\n",
       "0                  6                       42             6   Overweight   \n",
       "1                  6                       60             8       Normal   \n",
       "2                  6                       60             8       Normal   \n",
       "3                  4                       30             8        Obese   \n",
       "4                  4                       30             8        Obese   \n",
       "..               ...                      ...           ...          ...   \n",
       "95                 8                       60             4       Normal   \n",
       "96                 8                       60             4       Normal   \n",
       "97                 8                       60             4       Normal   \n",
       "98                 8                       60             4       Normal   \n",
       "99                 8                       60             4       Normal   \n",
       "\n",
       "   Blood Pressure  Heart Rate  Daily Steps Sleep Disorder  \n",
       "0          126/83          77         4200           None  \n",
       "1          125/80          75        10000           None  \n",
       "2          125/80          75        10000           None  \n",
       "3          140/90          85         3000    Sleep Apnea  \n",
       "4          140/90          85         3000    Sleep Apnea  \n",
       "..            ...         ...          ...            ...  \n",
       "95         115/75          68         7000           None  \n",
       "96         115/75          68         7000           None  \n",
       "97         115/75          68         7000           None  \n",
       "98         115/75          68         7000           None  \n",
       "99         115/75          68         7000           None  \n",
       "\n",
       "[100 rows x 13 columns]"
      ]
     },
     "execution_count": 9,
     "metadata": {},
     "output_type": "execute_result"
    }
   ],
   "source": [
    "df.head(100)"
   ]
  },
  {
   "cell_type": "markdown",
   "id": "ccb61873",
   "metadata": {},
   "source": [
    "## Descriptive Analysis Questions\n",
    "| Category                     | 🧠Analysis Questions                                                                 |\n",
    "|-----------------------------|--------------------------------------------------------------------------------------|\n",
    "| Demographic Insights         | 1.What is the gender distribution in the dataset?                                    |\n",
    "|                             | 2.What is the age distribution of individuals?                                       |\n",
    "|                             | 3.Which occupations are most common among participants?                              |\n",
    "|                             | 4.Is there a noticeable difference in sleep duration or quality between occupations?  |\n",
    "| Sleep Patterns               | 5.What is the average sleep duration and sleep quality across the dataset?           |\n",
    "|                             | 6.How do sleep duration and quality vary by gender or age group?                     |\n",
    "|                             | 7.Are there individuals who sleep significantly less (<6h) or more (>8h)?            |\n",
    "| Lifestyle Factors            | 8.What is the average stress level and physical activity per day?                    |\n",
    "|                             | 9.Is there a relationship between stress level and sleep quality?                    |\n",
    "|                             | 10.How does physical activity relate to sleep duration?                               |\n",
    "|                             | 11.What is the distribution of BMI categories in the dataset?                         |\n",
    "| Cardiovascular & Activity    | 12.What are the average heart rate and daily step counts?                            |\n",
    "|                             | 13.Is there a difference in heart rate or steps among different BMI categories?       |\n",
    "|                             | 14.How do daily steps relate to physical activity level (minutes/day)?                |\n",
    "| Sleep Disorder Analysis      | 15.What proportion of individuals have sleep disorders?                              |\n",
    "|                             | 16.How do stress level, heart rate, and physical activity differ by disorder type?    |\n",
    "|                             | 17.What lifestyle patterns are common in Insomnia or Sleep Apnea cases?              |\n",
    "|                             | 18.Do sleep disorders correlate with lower sleep quality or shorter duration?         |\n",
    "| Advanced Exploration         | 19.What are the strongest correlations between sleep and lifestyle factors?          |\n",
    "|                             | 20.Are there outliers in heart rate, stress, or sleep duration? What do they reveal? |\n",
    "\n",
    "\n"
   ]
  },
  {
   "cell_type": "code",
   "execution_count": 10,
   "id": "4404d053",
   "metadata": {},
   "outputs": [
    {
     "data": {
      "text/plain": [
       "Gender\n",
       "Male      189\n",
       "Female    185\n",
       "Name: count, dtype: int64"
      ]
     },
     "execution_count": 10,
     "metadata": {},
     "output_type": "execute_result"
    }
   ],
   "source": [
    "#1.What is the gender distribution in the dataset?  \n",
    "gender_distibution = df['Gender'].value_counts()\n",
    "gender_distibution"
   ]
  },
  {
   "cell_type": "code",
   "execution_count": 11,
   "id": "59071728",
   "metadata": {},
   "outputs": [
    {
     "data": {
      "image/png": "[encoded data removed]",
      "text/plain": [
       "<Figure size 800x500 with 1 Axes>"
      ]
     },
     "metadata": {},
     "output_type": "display_data"
    }
   ],
   "source": [
    "#2.What is the age distribution of individuals? \n",
    "# Plot the age distribution\n",
    "plt.figure(figsize=(8, 5))\n",
    "sns.histplot(df['Age'], bins=10, kde=True, color='skyblue')\n",
    "plt.title(\"Age Distribution of Individuals\")\n",
    "plt.xlabel(\"Age\")\n",
    "plt.ylabel(\"Count\")\n",
    "plt.grid(True)\n",
    "plt.show()"
   ]
  },
  {
   "cell_type": "code",
   "execution_count": 12,
   "id": "ead9e692",
   "metadata": {},
   "outputs": [
    {
     "data": {
      "text/plain": [
       "Occupation\n",
       "Nurse                   73\n",
       "Doctor                  71\n",
       "Engineer                63\n",
       "Lawyer                  47\n",
       "Teacher                 40\n",
       "Accountant              37\n",
       "Salesperson             32\n",
       "Software Engineer        4\n",
       "Scientist                4\n",
       "Sales Representative     2\n",
       "Name: count, dtype: int64"
      ]
     },
     "execution_count": 12,
     "metadata": {},
     "output_type": "execute_result"
    }
   ],
   "source": [
    "#3.Which occupations are most common among participants?\n",
    "occupation_counts = df['Occupation'].value_counts()\n",
    "occupation_counts.head(10)"
   ]
  },
  {
   "cell_type": "code",
   "execution_count": 13,
   "id": "cbc235b0",
   "metadata": {},
   "outputs": [
    {
     "data": {
      "image/png": "[encoded data removed]",
      "text/plain": [
       "<Figure size 800x500 with 1 Axes>"
      ]
     },
     "metadata": {},
     "output_type": "display_data"
    },
    {
     "data": {
      "image/png": "[encoded data removed]",
      "text/plain": [
       "<Figure size 800x500 with 1 Axes>"
      ]
     },
     "metadata": {},
     "output_type": "display_data"
    }
   ],
   "source": [
    "#4.Is there a difference in sleep duration or quality between occupations?\n",
    "\n",
    "# Histogram of Sleep Duration\n",
    "plt.figure(figsize=(8, 5))\n",
    "sns.histplot(data=df, x='Sleep Duration', bins=20, kde=True, color='skyblue')\n",
    "plt.title('Distribution of Sleep Duration')\n",
    "plt.xlabel('Sleep Duration (hours)')\n",
    "plt.ylabel('Count')\n",
    "plt.grid(True)\n",
    "plt.show()\n",
    "\n",
    "# Histogram of Quality of Sleep\n",
    "plt.figure(figsize=(8, 5))\n",
    "sns.histplot(data=df, x='Quality of Sleep', bins=10, kde=True, color='salmon')\n",
    "plt.title('Distribution of Sleep Quality')\n",
    "plt.xlabel('Quality of Sleep (1-10 scale)')\n",
    "plt.ylabel('Count')\n",
    "plt.grid(True)\n",
    "plt.show()"
   ]
  },
  {
   "cell_type": "code",
   "execution_count": 14,
   "id": "18b0fe8b",
   "metadata": {},
   "outputs": [
    {
     "data": {
      "text/plain": [
       "(7.132085561497325, 7.31283422459893)"
      ]
     },
     "execution_count": 14,
     "metadata": {},
     "output_type": "execute_result"
    }
   ],
   "source": [
    "#5.What is the average sleep duration and sleep quality across the dataset?\n",
    "average_sleep_duration = df['Sleep Duration'].mean()\n",
    "average_sleep_quality = df['Quality of Sleep'].mean()\n",
    "\n",
    "average_sleep_duration, average_sleep_quality"
   ]
  },
  {
   "cell_type": "code",
   "execution_count": 15,
   "id": "f6589d01",
   "metadata": {},
   "outputs": [
    {
     "data": {
      "text/plain": [
       "(        Sleep Duration  Quality of Sleep\n",
       " Gender                                  \n",
       " Female            7.23              7.66\n",
       " Male              7.04              6.97,\n",
       "            Sleep Duration  Quality of Sleep\n",
       " Age Group                                  \n",
       " 18-27                6.10              6.00\n",
       " 28-37                6.94              6.82\n",
       " 38-47                7.02              7.25\n",
       " 48-57                7.35              7.70\n",
       " 58-67                8.07              9.00)"
      ]
     },
     "execution_count": 15,
     "metadata": {},
     "output_type": "execute_result"
    }
   ],
   "source": [
    "#6.How do sleep duration and quality vary by gender or age group?\n",
    "# Group by Gender\n",
    "gender_grouped = df.groupby('Gender')[['Sleep Duration', 'Quality of Sleep']].mean().round(2)\n",
    "\n",
    "# Create Age Groups\n",
    "bins = [18, 28, 38, 48, 58, 68]\n",
    "labels = ['18-27', '28-37', '38-47', '48-57', '58-67']\n",
    "df['Age Group'] = pd.cut(df['Age'], bins=bins, labels=labels, right=False)\n",
    "\n",
    "# Group by Age Group\n",
    "age_grouped = df.groupby('Age Group')[['Sleep Duration', 'Quality of Sleep']].mean().round(2)\n",
    "\n",
    "gender_grouped, age_grouped\n"
   ]
  },
  {
   "cell_type": "markdown",
   "id": "df178368",
   "metadata": {},
   "source": [
    "✅ By Gender\n",
    "Females report both longer sleep duration and better sleep quality than males.\n",
    "\n",
    "✅ By Age Group\n",
    "Sleep duration and quality both improve with age, peaking in the 58–67 age range:\n",
    "\n",
    "8.07 hours of sleep\n",
    "\n",
    "9.00 / 10 sleep quality"
   ]
  },
  {
   "cell_type": "code",
   "execution_count": 16,
   "id": "d63a1ec5",
   "metadata": {},
   "outputs": [
    {
     "data": {
      "text/plain": [
       "(6, 58)"
      ]
     },
     "execution_count": 16,
     "metadata": {},
     "output_type": "execute_result"
    }
   ],
   "source": [
    "#7.Are there individuals who sleep significantly less (<6h) or more (>8h)?\n",
    "#  \n",
    "sleep_less_than_6 = df[df['Sleep Duration'] < 6]\n",
    "sleep_more_than_8 = df[df['Sleep Duration'] > 8]\n",
    "\n",
    "# Count them\n",
    "count_less_than_6 = sleep_less_than_6.shape[0]\n",
    "count_more_than_8 = sleep_more_than_8.shape[0]\n",
    "\n",
    "count_less_than_6, count_more_than_8"
   ]
  },
  {
   "cell_type": "markdown",
   "id": "30087c0c",
   "metadata": {},
   "source": [
    "- 6 individuals sleep less than 6 hours\n",
    "- 58 individuals sleep more than 8 hours"
   ]
  },
  {
   "cell_type": "code",
   "execution_count": 17,
   "id": "e78e4551",
   "metadata": {},
   "outputs": [
    {
     "data": {
      "text/plain": [
       "(5.39, 59.17)"
      ]
     },
     "execution_count": 17,
     "metadata": {},
     "output_type": "execute_result"
    }
   ],
   "source": [
    "#8.What is the average stress level and physical activity per day? \n",
    "average_stress = df['Stress Level'].mean().round(2)\n",
    "average_activity = df['Physical Activity Level'].mean().round(2)\n",
    "\n",
    "average_stress, average_activity"
   ]
  },
  {
   "cell_type": "markdown",
   "id": "da03b356",
   "metadata": {},
   "source": [
    "They are engaging in just under 1 hour of daily physical activity, which is a healthy habit and aligns with global recommendations for maintaining well-being"
   ]
  },
  {
   "cell_type": "code",
   "execution_count": 18,
   "id": "4798914c",
   "metadata": {},
   "outputs": [
    {
     "data": {
      "image/png": "[encoded data removed]",
      "text/plain": [
       "<Figure size 800x500 with 1 Axes>"
      ]
     },
     "metadata": {},
     "output_type": "display_data"
    },
    {
     "data": {
      "text/plain": [
       "-0.9"
      ]
     },
     "execution_count": 18,
     "metadata": {},
     "output_type": "execute_result"
    }
   ],
   "source": [
    "#9.Is there a relationship between stress level and sleep quality?\n",
    "\n",
    "plt.figure(figsize=(8, 5))\n",
    "sns.regplot(data=df, x='Stress Level', y='Quality of Sleep', scatter_kws={'alpha':0.5}, line_kws={'color':'red'})\n",
    "plt.title(\"Relationship Between Stress Level and Sleep Quality\")\n",
    "plt.xlabel(\"Stress Level (1–10)\")\n",
    "plt.ylabel(\"Quality of Sleep (1–10)\")\n",
    "plt.grid(True)\n",
    "plt.tight_layout()\n",
    "plt.show()\n",
    "\n",
    "correlation = df['Stress Level'].corr(df['Quality of Sleep']).round(2)\n",
    "correlation"
   ]
  },
  {
   "cell_type": "markdown",
   "id": "ef19fb10",
   "metadata": {},
   "source": [
    "📉 As stress level increases, sleep quality tends to decrease."
   ]
  },
  {
   "cell_type": "code",
   "execution_count": 19,
   "id": "9555ef73",
   "metadata": {},
   "outputs": [
    {
     "data": {
      "image/png": "[encoded data removed]",
      "text/plain": [
       "<Figure size 800x500 with 1 Axes>"
      ]
     },
     "metadata": {},
     "output_type": "display_data"
    },
    {
     "data": {
      "text/plain": [
       "0.21"
      ]
     },
     "execution_count": 19,
     "metadata": {},
     "output_type": "execute_result"
    }
   ],
   "source": [
    "#10.How does physical activity relate to sleep duration?  \n",
    "\n",
    "plt.figure(figsize=(8, 5))\n",
    "sns.regplot(data=df, x='Physical Activity Level', y='Sleep Duration', scatter_kws={'alpha':0.5}, line_kws={'color':'green'})\n",
    "plt.title(\"Relationship Between Physical Activity and Sleep Duration\")\n",
    "plt.xlabel(\"Physical Activity Level (minutes/day)\")\n",
    "plt.ylabel(\"Sleep Duration (hours)\")\n",
    "plt.grid(True)\n",
    "plt.tight_layout()\n",
    "plt.show()\n",
    "\n",
    "# Calculate the correlation coefficient\n",
    "activity_sleep_corr = df['Physical Activity Level'].corr(df['Sleep Duration']).round(2)\n",
    "activity_sleep_corr\n",
    "\n"
   ]
  },
  {
   "cell_type": "markdown",
   "id": "82f517a7",
   "metadata": {},
   "source": [
    "Daily movement not only boosts physical health, but also improves sleep patterns."
   ]
  },
  {
   "cell_type": "code",
   "execution_count": 24,
   "id": "abf8ed3c",
   "metadata": {},
   "outputs": [],
   "source": [
    "#11.What is the distribution of BMI categories in the dataset?    \n"
   ]
  },
  {
   "cell_type": "code",
   "execution_count": null,
   "id": "f46f9b7c",
   "metadata": {},
   "outputs": [
    {
     "data": {
      "text/plain": [
       "BMI Category\n",
       "Normal        216\n",
       "Overweight    148\n",
       "Obese          10\n",
       "Name: count, dtype: int64"
      ]
     },
     "execution_count": 23,
     "metadata": {},
     "output_type": "execute_result"
    }
   ],
   "source": [
    "df['BMI Category'] = df['BMI Category'].replace({'Normal Weight': 'Normal'})\n",
    "\n",
    "df['BMI Category'].value_counts()"
   ]
  },
  {
   "cell_type": "code",
   "execution_count": 25,
   "id": "8974b8ca",
   "metadata": {},
   "outputs": [
    {
     "name": "stderr",
     "output_type": "stream",
     "text": [
      "C:\\Users\\Elif Surucu\\AppData\\Local\\Temp\\ipykernel_111676\\4061186976.py:5: FutureWarning: \n",
      "\n",
      "Passing `palette` without assigning `hue` is deprecated and will be removed in v0.14.0. Assign the `x` variable to `hue` and set `legend=False` for the same effect.\n",
      "\n",
      "  sns.barplot(x=bmi_distribution.index, y=bmi_distribution.values, palette='pastel')\n"
     ]
    },
    {
     "data": {
      "image/png": "[encoded data removed]",
      "text/plain": [
       "<Figure size 800x500 with 1 Axes>"
      ]
     },
     "metadata": {},
     "output_type": "display_data"
    },
    {
     "data": {
      "text/plain": [
       "BMI Category\n",
       "Normal        216\n",
       "Overweight    148\n",
       "Obese          10\n",
       "Name: count, dtype: int64"
      ]
     },
     "execution_count": 25,
     "metadata": {},
     "output_type": "execute_result"
    }
   ],
   "source": [
    "bmi_distribution = df['BMI Category'].value_counts()\n",
    "\n",
    "# Plot the distribution\n",
    "plt.figure(figsize=(8, 5))\n",
    "sns.barplot(x=bmi_distribution.index, y=bmi_distribution.values, palette='pastel')\n",
    "plt.title(\"Distribution of BMI Categories\")\n",
    "plt.xlabel(\"BMI Category\")\n",
    "plt.ylabel(\"Number of Individuals\")\n",
    "plt.grid(axis='y', linestyle='--', alpha=0.6)\n",
    "plt.tight_layout()\n",
    "plt.show()\n",
    "\n",
    "# Display exact counts\n",
    "bmi_distribution"
   ]
  },
  {
   "cell_type": "code",
   "execution_count": 26,
   "id": "2b23bb69",
   "metadata": {},
   "outputs": [
    {
     "data": {
      "text/plain": [
       "(70.17, 6816.84)"
      ]
     },
     "execution_count": 26,
     "metadata": {},
     "output_type": "execute_result"
    }
   ],
   "source": [
    "#12.What are the average heart rate and daily step counts? \n",
    " \n",
    "average_heart_rate = df['Heart Rate'].mean().round(2)\n",
    "average_daily_steps = df['Daily Steps'].mean().round(2)\n",
    "\n",
    "average_heart_rate, average_daily_steps"
   ]
  },
  {
   "cell_type": "markdown",
   "id": "791bc925",
   "metadata": {},
   "source": [
    "✅ Heart Rate is in the healthy range (60–100 bpm).\n",
    "\n",
    "🚶 Step count is moderately high — many people aim for ~7000 steps/day, so this group is fairly active overall."
   ]
  },
  {
   "cell_type": "code",
   "execution_count": 29,
   "id": "466be75a",
   "metadata": {},
   "outputs": [
    {
     "name": "stderr",
     "output_type": "stream",
     "text": [
      "C:\\Users\\Elif Surucu\\AppData\\Local\\Temp\\ipykernel_111676\\2340956589.py:11: FutureWarning: \n",
      "\n",
      "Passing `palette` without assigning `hue` is deprecated and will be removed in v0.14.0. Assign the `x` variable to `hue` and set `legend=False` for the same effect.\n",
      "\n",
      "  sns.barplot(x=bmi_grouped.index, y=bmi_grouped['Heart Rate'], palette='coolwarm')\n"
     ]
    },
    {
     "data": {
      "image/png": "[encoded data removed]",
      "text/plain": [
       "<Figure size 1000x500 with 1 Axes>"
      ]
     },
     "metadata": {},
     "output_type": "display_data"
    },
    {
     "name": "stderr",
     "output_type": "stream",
     "text": [
      "C:\\Users\\Elif Surucu\\AppData\\Local\\Temp\\ipykernel_111676\\2340956589.py:21: FutureWarning: \n",
      "\n",
      "Passing `palette` without assigning `hue` is deprecated and will be removed in v0.14.0. Assign the `x` variable to `hue` and set `legend=False` for the same effect.\n",
      "\n",
      "  sns.barplot(x=bmi_grouped.index, y=bmi_grouped['Daily Steps'], palette='crest')\n"
     ]
    },
    {
     "data": {
      "image/png": "[encoded data removed]",
      "text/plain": [
       "<Figure size 1000x500 with 1 Axes>"
      ]
     },
     "metadata": {},
     "output_type": "display_data"
    },
    {
     "data": {
      "application/vnd.microsoft.datawrangler.viewer.v0+json": {
       "columns": [
        {
         "name": "BMI Category",
         "rawType": "object",
         "type": "string"
        },
        {
         "name": "Heart Rate",
         "rawType": "float64",
         "type": "float"
        },
        {
         "name": "Daily Steps",
         "rawType": "float64",
         "type": "float"
        }
       ],
       "conversionMethod": "pd.DataFrame",
       "ref": "48e85135-1943-4d9e-8ff2-8d3a192aed06",
       "rows": [
        [
         "Obese",
         "84.3",
         "3350.0"
        ],
        [
         "Overweight",
         "70.95",
         "6965.54"
        ],
        [
         "Normal",
         "68.98",
         "6875.46"
        ]
       ],
       "shape": {
        "columns": 2,
        "rows": 3
       }
      },
      "text/html": [
       "<div>\n",
       "<style scoped>\n",
       "    .dataframe tbody tr th:only-of-type {\n",
       "        vertical-align: middle;\n",
       "    }\n",
       "\n",
       "    .dataframe tbody tr th {\n",
       "        vertical-align: top;\n",
       "    }\n",
       "\n",
       "    .dataframe thead th {\n",
       "        text-align: right;\n",
       "    }\n",
       "</style>\n",
       "<table border=\"1\" class=\"dataframe\">\n",
       "  <thead>\n",
       "    <tr style=\"text-align: right;\">\n",
       "      <th></th>\n",
       "      <th>Heart Rate</th>\n",
       "      <th>Daily Steps</th>\n",
       "    </tr>\n",
       "    <tr>\n",
       "      <th>BMI Category</th>\n",
       "      <th></th>\n",
       "      <th></th>\n",
       "    </tr>\n",
       "  </thead>\n",
       "  <tbody>\n",
       "    <tr>\n",
       "      <th>Obese</th>\n",
       "      <td>84.30</td>\n",
       "      <td>3350.00</td>\n",
       "    </tr>\n",
       "    <tr>\n",
       "      <th>Overweight</th>\n",
       "      <td>70.95</td>\n",
       "      <td>6965.54</td>\n",
       "    </tr>\n",
       "    <tr>\n",
       "      <th>Normal</th>\n",
       "      <td>68.98</td>\n",
       "      <td>6875.46</td>\n",
       "    </tr>\n",
       "  </tbody>\n",
       "</table>\n",
       "</div>"
      ],
      "text/plain": [
       "              Heart Rate  Daily Steps\n",
       "BMI Category                         \n",
       "Obese              84.30      3350.00\n",
       "Overweight         70.95      6965.54\n",
       "Normal             68.98      6875.46"
      ]
     },
     "execution_count": 29,
     "metadata": {},
     "output_type": "execute_result"
    }
   ],
   "source": [
    "# 13.Is there a difference in heart rate or steps among different BMI categories?\n",
    "\n",
    "# Group by BMI Category and calculate average heart rate and daily steps\n",
    "bmi_grouped = df.groupby('BMI Category')[['Heart Rate', 'Daily Steps']].mean().round(2)\n",
    "\n",
    "# Sort for cleaner plot order\n",
    "bmi_grouped = bmi_grouped.sort_values(by='Heart Rate', ascending=False)\n",
    "\n",
    "# Barplot for Heart Rate\n",
    "plt.figure(figsize=(10, 5))\n",
    "sns.barplot(x=bmi_grouped.index, y=bmi_grouped['Heart Rate'], palette='coolwarm')\n",
    "plt.title(\"Average Heart Rate by BMI Category\")\n",
    "plt.ylabel(\"Heart Rate (bpm)\")\n",
    "plt.xlabel(\"BMI Category\")\n",
    "plt.grid(axis='y', linestyle='--', alpha=0.5)\n",
    "plt.tight_layout()\n",
    "plt.show()\n",
    "\n",
    "# Barplot for Daily Steps\n",
    "plt.figure(figsize=(10, 5))\n",
    "sns.barplot(x=bmi_grouped.index, y=bmi_grouped['Daily Steps'], palette='crest')\n",
    "plt.title(\"Average Daily Steps by BMI Category\")\n",
    "plt.ylabel(\"Daily Steps\")\n",
    "plt.xlabel(\"BMI Category\")\n",
    "plt.grid(axis='y', linestyle='--', alpha=0.5)\n",
    "plt.tight_layout()\n",
    "plt.show()\n",
    "\n",
    "# Display grouped values\n",
    "bmi_grouped"
   ]
  },
  {
   "cell_type": "markdown",
   "id": "dc9bd0d7",
   "metadata": {},
   "source": [
    "💓 Heart Rate\n",
    "Obese individuals have the highest average heart rate: 84.3 bpm\n",
    "\n",
    "Overweight: 70.95 bpm\n",
    "\n",
    "Normal: 68.98 bpm\n",
    "🔍 This indicates a clear increase in heart strain as BMI increases.\n",
    "\n",
    "🚶‍♀️ Daily Steps\n",
    "Obese: ~3,350 steps/day\n",
    "\n",
    "Overweight: ~6,965 steps/day\n",
    "\n",
    "Normal: ~6,875 steps/day\n",
    "🔍 People with obesity walk less than half as much as those in the Normal or Overweight group.\n",
    "\n",
    "🧠 Insights:\n",
    "There's a reverse pattern between physical activity and BMI.\n",
    "\n",
    "Lower activity and higher heart rate are clear markers for individuals in higher BMI categories.\n",
    "\n",
    "This may help you suggest targeted interventions (e.g., promoting walking routines for high-BMI individuals)."
   ]
  },
  {
   "cell_type": "code",
   "execution_count": 30,
   "id": "2e3eb8da",
   "metadata": {},
   "outputs": [
    {
     "data": {
      "image/png": "[encoded data removed]",
      "text/plain": [
       "<Figure size 800x500 with 1 Axes>"
      ]
     },
     "metadata": {},
     "output_type": "display_data"
    },
    {
     "data": {
      "text/plain": [
       "0.77"
      ]
     },
     "execution_count": 30,
     "metadata": {},
     "output_type": "execute_result"
    }
   ],
   "source": [
    "#14.How do daily steps relate to physical activity level (minutes/day)?\n",
    "\n",
    "# Scatterplot with regression line for Daily Steps vs. Physical Activity Level\n",
    "plt.figure(figsize=(8, 5))\n",
    "sns.regplot(data=df, x='Daily Steps', y='Physical Activity Level', scatter_kws={'alpha':0.5}, line_kws={'color':'purple'})\n",
    "plt.title(\"Relationship Between Daily Steps and Physical Activity Level\")\n",
    "plt.xlabel(\"Daily Steps\")\n",
    "plt.ylabel(\"Physical Activity Level (minutes/day)\")\n",
    "plt.grid(True)\n",
    "plt.tight_layout()\n",
    "plt.show()\n",
    "\n",
    "# Correlation between the two\n",
    "steps_activity_corr = df['Daily Steps'].corr(df['Physical Activity Level']).round(2)\n",
    "steps_activity_corr"
   ]
  },
  {
   "cell_type": "markdown",
   "id": "8a0606f0",
   "metadata": {},
   "source": [
    "📈 There’s a strong positive relationship — as daily steps increase, so does minutes of physical activity per day.\n",
    "\n",
    "The purple regression line confirms a linear trend: more walking = more activity time."
   ]
  },
  {
   "cell_type": "code",
   "execution_count": 31,
   "id": "2d71438c",
   "metadata": {},
   "outputs": [
    {
     "name": "stderr",
     "output_type": "stream",
     "text": [
      "C:\\Users\\Elif Surucu\\AppData\\Local\\Temp\\ipykernel_111676\\3548885517.py:8: FutureWarning: \n",
      "\n",
      "Passing `palette` without assigning `hue` is deprecated and will be removed in v0.14.0. Assign the `x` variable to `hue` and set `legend=False` for the same effect.\n",
      "\n",
      "  sns.barplot(x=sleep_disorder_counts.index, y=sleep_disorder_counts.values, palette='Set2')\n"
     ]
    },
    {
     "data": {
      "image/png": "[encoded data removed]",
      "text/plain": [
       "<Figure size 800x500 with 1 Axes>"
      ]
     },
     "metadata": {},
     "output_type": "display_data"
    },
    {
     "data": {
      "text/plain": [
       "Sleep Disorder\n",
       "None           59.0\n",
       "Sleep Apnea    21.0\n",
       "Insomnia       21.0\n",
       "Name: proportion, dtype: float64"
      ]
     },
     "execution_count": 31,
     "metadata": {},
     "output_type": "execute_result"
    }
   ],
   "source": [
    "# 15.What proportion of individuals have sleep disorders?  \n",
    "\n",
    "# Calculate the proportion of individuals with each sleep disorder category\n",
    "sleep_disorder_counts = df['Sleep Disorder'].value_counts(normalize=True).round(2) * 100\n",
    "\n",
    "# Bar plot of the proportions\n",
    "plt.figure(figsize=(8, 5))\n",
    "sns.barplot(x=sleep_disorder_counts.index, y=sleep_disorder_counts.values, palette='Set2')\n",
    "plt.title(\"Proportion of Individuals by Sleep Disorder Category\")\n",
    "plt.ylabel(\"Percentage (%)\")\n",
    "plt.xlabel(\"Sleep Disorder\")\n",
    "plt.ylim(0, 100)\n",
    "plt.grid(axis='y', linestyle='--', alpha=0.5)\n",
    "plt.tight_layout()\n",
    "plt.show()\n",
    "\n",
    "# Show numeric percentages\n",
    "sleep_disorder_counts"
   ]
  },
  {
   "cell_type": "code",
   "execution_count": null,
   "id": "26be4c14",
   "metadata": {},
   "outputs": [
    {
     "data": {
      "application/vnd.microsoft.datawrangler.viewer.v0+json": {
       "columns": [
        {
         "name": "Sleep Disorder",
         "rawType": "object",
         "type": "string"
        },
        {
         "name": "Stress Level",
         "rawType": "float64",
         "type": "float"
        },
        {
         "name": "Heart Rate",
         "rawType": "float64",
         "type": "float"
        },
        {
         "name": "Physical Activity Level",
         "rawType": "float64",
         "type": "float"
        }
       ],
       "conversionMethod": "pd.DataFrame",
       "ref": "eef4fc2d-99e3-40d2-b0d0-9b6e4ff1fb0e",
       "rows": [
        [
         "Insomnia",
         "5.87",
         "70.47",
         "46.82"
        ],
        [
         "None",
         "5.11",
         "69.02",
         "57.95"
        ],
        [
         "Sleep Apnea",
         "5.67",
         "73.09",
         "74.79"
        ]
       ],
       "shape": {
        "columns": 3,
        "rows": 3
       }
      },
      "text/html": [
       "<div>\n",
       "<style scoped>\n",
       "    .dataframe tbody tr th:only-of-type {\n",
       "        vertical-align: middle;\n",
       "    }\n",
       "\n",
       "    .dataframe tbody tr th {\n",
       "        vertical-align: top;\n",
       "    }\n",
       "\n",
       "    .dataframe thead th {\n",
       "        text-align: right;\n",
       "    }\n",
       "</style>\n",
       "<table border=\"1\" class=\"dataframe\">\n",
       "  <thead>\n",
       "    <tr style=\"text-align: right;\">\n",
       "      <th></th>\n",
       "      <th>Stress Level</th>\n",
       "      <th>Heart Rate</th>\n",
       "      <th>Physical Activity Level</th>\n",
       "    </tr>\n",
       "    <tr>\n",
       "      <th>Sleep Disorder</th>\n",
       "      <th></th>\n",
       "      <th></th>\n",
       "      <th></th>\n",
       "    </tr>\n",
       "  </thead>\n",
       "  <tbody>\n",
       "    <tr>\n",
       "      <th>Insomnia</th>\n",
       "      <td>5.87</td>\n",
       "      <td>70.47</td>\n",
       "      <td>46.82</td>\n",
       "    </tr>\n",
       "    <tr>\n",
       "      <th>None</th>\n",
       "      <td>5.11</td>\n",
       "      <td>69.02</td>\n",
       "      <td>57.95</td>\n",
       "    </tr>\n",
       "    <tr>\n",
       "      <th>Sleep Apnea</th>\n",
       "      <td>5.67</td>\n",
       "      <td>73.09</td>\n",
       "      <td>74.79</td>\n",
       "    </tr>\n",
       "  </tbody>\n",
       "</table>\n",
       "</div>"
      ],
      "text/plain": [
       "                Stress Level  Heart Rate  Physical Activity Level\n",
       "Sleep Disorder                                                   \n",
       "Insomnia                5.87       70.47                    46.82\n",
       "None                    5.11       69.02                    57.95\n",
       "Sleep Apnea             5.67       73.09                    74.79"
      ]
     },
     "execution_count": 32,
     "metadata": {},
     "output_type": "execute_result"
    }
   ],
   "source": [
    "#16.How do stress level, heart rate, and physical activity differ by disorder type? \n",
    "\n",
    "disorder_grouped = df.groupby('Sleep Disorder')[['Stress Level', 'Heart Rate', 'Physical Activity Level']].mean().round(2)\n",
    "\n",
    "# Display the results\n",
    "disorder_grouped"
   ]
  },
  {
   "cell_type": "markdown",
   "id": "e7947d38",
   "metadata": {},
   "source": [
    "🔍 Interpretation:\n",
    "Stress Level is highest for individuals with Insomnia.\n",
    "\n",
    "Heart Rate peaks in individuals with Sleep Apnea, suggesting possible cardiovascular strain.\n",
    "\n",
    "Physical Activity is surprisingly highest in the Sleep Apnea group — this may suggest that some are managing the condition with active lifestyle interventions."
   ]
  },
  {
   "cell_type": "code",
   "execution_count": 33,
   "id": "ed2088f8",
   "metadata": {},
   "outputs": [
    {
     "data": {
      "application/vnd.microsoft.datawrangler.viewer.v0+json": {
       "columns": [
        {
         "name": "Sleep Disorder",
         "rawType": "object",
         "type": "string"
        },
        {
         "name": "Sleep Duration",
         "rawType": "float64",
         "type": "float"
        },
        {
         "name": "Quality of Sleep",
         "rawType": "float64",
         "type": "float"
        },
        {
         "name": "Stress Level",
         "rawType": "float64",
         "type": "float"
        },
        {
         "name": "Heart Rate",
         "rawType": "float64",
         "type": "float"
        },
        {
         "name": "Physical Activity Level",
         "rawType": "float64",
         "type": "float"
        },
        {
         "name": "Daily Steps",
         "rawType": "float64",
         "type": "float"
        }
       ],
       "conversionMethod": "pd.DataFrame",
       "ref": "6addf534-897d-4aea-b79d-05fb36300519",
       "rows": [
        [
         "Insomnia",
         "6.59",
         "6.53",
         "5.87",
         "70.47",
         "46.82",
         "5901.3"
        ],
        [
         "Sleep Apnea",
         "7.03",
         "7.21",
         "5.67",
         "73.09",
         "74.79",
         "7619.23"
        ]
       ],
       "shape": {
        "columns": 6,
        "rows": 2
       }
      },
      "text/html": [
       "<div>\n",
       "<style scoped>\n",
       "    .dataframe tbody tr th:only-of-type {\n",
       "        vertical-align: middle;\n",
       "    }\n",
       "\n",
       "    .dataframe tbody tr th {\n",
       "        vertical-align: top;\n",
       "    }\n",
       "\n",
       "    .dataframe thead th {\n",
       "        text-align: right;\n",
       "    }\n",
       "</style>\n",
       "<table border=\"1\" class=\"dataframe\">\n",
       "  <thead>\n",
       "    <tr style=\"text-align: right;\">\n",
       "      <th></th>\n",
       "      <th>Sleep Duration</th>\n",
       "      <th>Quality of Sleep</th>\n",
       "      <th>Stress Level</th>\n",
       "      <th>Heart Rate</th>\n",
       "      <th>Physical Activity Level</th>\n",
       "      <th>Daily Steps</th>\n",
       "    </tr>\n",
       "    <tr>\n",
       "      <th>Sleep Disorder</th>\n",
       "      <th></th>\n",
       "      <th></th>\n",
       "      <th></th>\n",
       "      <th></th>\n",
       "      <th></th>\n",
       "      <th></th>\n",
       "    </tr>\n",
       "  </thead>\n",
       "  <tbody>\n",
       "    <tr>\n",
       "      <th>Insomnia</th>\n",
       "      <td>6.59</td>\n",
       "      <td>6.53</td>\n",
       "      <td>5.87</td>\n",
       "      <td>70.47</td>\n",
       "      <td>46.82</td>\n",
       "      <td>5901.30</td>\n",
       "    </tr>\n",
       "    <tr>\n",
       "      <th>Sleep Apnea</th>\n",
       "      <td>7.03</td>\n",
       "      <td>7.21</td>\n",
       "      <td>5.67</td>\n",
       "      <td>73.09</td>\n",
       "      <td>74.79</td>\n",
       "      <td>7619.23</td>\n",
       "    </tr>\n",
       "  </tbody>\n",
       "</table>\n",
       "</div>"
      ],
      "text/plain": [
       "                Sleep Duration  Quality of Sleep  Stress Level  Heart Rate  \\\n",
       "Sleep Disorder                                                               \n",
       "Insomnia                  6.59              6.53          5.87       70.47   \n",
       "Sleep Apnea               7.03              7.21          5.67       73.09   \n",
       "\n",
       "                Physical Activity Level  Daily Steps  \n",
       "Sleep Disorder                                        \n",
       "Insomnia                          46.82      5901.30  \n",
       "Sleep Apnea                       74.79      7619.23  "
      ]
     },
     "execution_count": 33,
     "metadata": {},
     "output_type": "execute_result"
    }
   ],
   "source": [
    "#17.What lifestyle patterns are common in Insomnia or Sleep Apnea cases?  \n",
    "\n",
    "# Filter the dataset to only include individuals with Insomnia or Sleep Apnea\n",
    "disorder_cases = df[df['Sleep Disorder'].isin(['Insomnia', 'Sleep Apnea'])]\n",
    "\n",
    "# Calculate the average values of relevant lifestyle variables\n",
    "lifestyle_columns = ['Sleep Duration', 'Quality of Sleep', 'Stress Level', 'Heart Rate', 'Physical Activity Level', 'Daily Steps']\n",
    "lifestyle_patterns = disorder_cases.groupby('Sleep Disorder')[lifestyle_columns].mean().round(2)\n",
    "\n",
    "# Display the results\n",
    "lifestyle_patterns"
   ]
  },
  {
   "cell_type": "markdown",
   "id": "a083cc8e",
   "metadata": {},
   "source": [
    "🧠 Insight:\n",
    "- Insomnia appears more connected to mental stress and restlessness (low sleep time + low activity).\n",
    "\n",
    "- Sleep Apnea may reflect physiological issues (e.g., poor breathing during sleep), but the individuals might be trying to manage it with higher activity."
   ]
  },
  {
   "cell_type": "code",
   "execution_count": 34,
   "id": "ff1ecdbe",
   "metadata": {},
   "outputs": [
    {
     "data": {
      "application/vnd.microsoft.datawrangler.viewer.v0+json": {
       "columns": [
        {
         "name": "Sleep Disorder",
         "rawType": "object",
         "type": "string"
        },
        {
         "name": "Sleep Duration",
         "rawType": "float64",
         "type": "float"
        },
        {
         "name": "Quality of Sleep",
         "rawType": "float64",
         "type": "float"
        }
       ],
       "conversionMethod": "pd.DataFrame",
       "ref": "fc1467ae-4687-479a-adc4-5fbd3a3e571e",
       "rows": [
        [
         "Insomnia",
         "6.59",
         "6.53"
        ],
        [
         "None",
         "7.36",
         "7.63"
        ],
        [
         "Sleep Apnea",
         "7.03",
         "7.21"
        ]
       ],
       "shape": {
        "columns": 2,
        "rows": 3
       }
      },
      "text/html": [
       "<div>\n",
       "<style scoped>\n",
       "    .dataframe tbody tr th:only-of-type {\n",
       "        vertical-align: middle;\n",
       "    }\n",
       "\n",
       "    .dataframe tbody tr th {\n",
       "        vertical-align: top;\n",
       "    }\n",
       "\n",
       "    .dataframe thead th {\n",
       "        text-align: right;\n",
       "    }\n",
       "</style>\n",
       "<table border=\"1\" class=\"dataframe\">\n",
       "  <thead>\n",
       "    <tr style=\"text-align: right;\">\n",
       "      <th></th>\n",
       "      <th>Sleep Duration</th>\n",
       "      <th>Quality of Sleep</th>\n",
       "    </tr>\n",
       "    <tr>\n",
       "      <th>Sleep Disorder</th>\n",
       "      <th></th>\n",
       "      <th></th>\n",
       "    </tr>\n",
       "  </thead>\n",
       "  <tbody>\n",
       "    <tr>\n",
       "      <th>Insomnia</th>\n",
       "      <td>6.59</td>\n",
       "      <td>6.53</td>\n",
       "    </tr>\n",
       "    <tr>\n",
       "      <th>None</th>\n",
       "      <td>7.36</td>\n",
       "      <td>7.63</td>\n",
       "    </tr>\n",
       "    <tr>\n",
       "      <th>Sleep Apnea</th>\n",
       "      <td>7.03</td>\n",
       "      <td>7.21</td>\n",
       "    </tr>\n",
       "  </tbody>\n",
       "</table>\n",
       "</div>"
      ],
      "text/plain": [
       "                Sleep Duration  Quality of Sleep\n",
       "Sleep Disorder                                  \n",
       "Insomnia                  6.59              6.53\n",
       "None                      7.36              7.63\n",
       "Sleep Apnea               7.03              7.21"
      ]
     },
     "execution_count": 34,
     "metadata": {},
     "output_type": "execute_result"
    }
   ],
   "source": [
    "#18.Do sleep disorders correlate with lower sleep quality or shorter duration?\n",
    "\n",
    "# Group by Sleep Disorder and calculate average sleep duration and quality\n",
    "sleep_metrics_by_disorder = df.groupby('Sleep Disorder')[['Sleep Duration', 'Quality of Sleep']].mean().round(2)\n",
    "\n",
    "# Display the result\n",
    "sleep_metrics_by_disorder"
   ]
  },
  {
   "cell_type": "code",
   "execution_count": 36,
   "id": "6a91fd8d",
   "metadata": {},
   "outputs": [
    {
     "name": "stderr",
     "output_type": "stream",
     "text": [
      "C:\\Users\\Elif Surucu\\AppData\\Local\\Temp\\ipykernel_111676\\4082668162.py:4: FutureWarning: \n",
      "\n",
      "Passing `palette` without assigning `hue` is deprecated and will be removed in v0.14.0. Assign the `x` variable to `hue` and set `legend=False` for the same effect.\n",
      "\n",
      "  sns.barplot(data=df, x='Sleep Disorder', y='Sleep Duration', ax=axes[0], palette='Blues')\n",
      "C:\\Users\\Elif Surucu\\AppData\\Local\\Temp\\ipykernel_111676\\4082668162.py:11: FutureWarning: \n",
      "\n",
      "Passing `palette` without assigning `hue` is deprecated and will be removed in v0.14.0. Assign the `x` variable to `hue` and set `legend=False` for the same effect.\n",
      "\n",
      "  sns.barplot(data=df, x='Sleep Disorder', y='Quality of Sleep', ax=axes[1], palette='Purples')\n"
     ]
    },
    {
     "data": {
      "image/png": "[encoded data removed]",
      "text/plain": [
       "<Figure size 1400x500 with 2 Axes>"
      ]
     },
     "metadata": {},
     "output_type": "display_data"
    }
   ],
   "source": [
    "fig, axes = plt.subplots(1, 2, figsize=(14, 5))\n",
    "\n",
    "# Bar plot for Sleep Duration\n",
    "sns.barplot(data=df, x='Sleep Disorder', y='Sleep Duration', ax=axes[0], palette='Blues')\n",
    "axes[0].set_title('Average Sleep Duration by Disorder Type')\n",
    "axes[0].set_ylabel('Sleep Duration (hours)')\n",
    "axes[0].set_xlabel('Sleep Disorder')\n",
    "axes[0].grid(axis='y', linestyle='--', alpha=0.5)\n",
    "\n",
    "# Bar plot for Quality of Sleep\n",
    "sns.barplot(data=df, x='Sleep Disorder', y='Quality of Sleep', ax=axes[1], palette='Purples')\n",
    "axes[1].set_title('Average Sleep Quality by Disorder Type')\n",
    "axes[1].set_ylabel('Quality of Sleep (1–10)')\n",
    "axes[1].set_xlabel('Sleep Disorder')\n",
    "axes[1].grid(axis='y', linestyle='--', alpha=0.5)\n",
    "\n",
    "plt.tight_layout()\n",
    "plt.show()"
   ]
  },
  {
   "cell_type": "code",
   "execution_count": 37,
   "id": "a2cd670e",
   "metadata": {},
   "outputs": [
    {
     "data": {
      "image/png": "[encoded data removed]",
      "text/plain": [
       "<Figure size 1000x700 with 2 Axes>"
      ]
     },
     "metadata": {},
     "output_type": "display_data"
    },
    {
     "data": {
      "application/vnd.microsoft.datawrangler.viewer.v0+json": {
       "columns": [
        {
         "name": "index",
         "rawType": "object",
         "type": "string"
        },
        {
         "name": "Sleep Duration",
         "rawType": "float64",
         "type": "float"
        },
        {
         "name": "Quality of Sleep",
         "rawType": "float64",
         "type": "float"
        },
        {
         "name": "Stress Level",
         "rawType": "float64",
         "type": "float"
        },
        {
         "name": "Heart Rate",
         "rawType": "float64",
         "type": "float"
        },
        {
         "name": "Physical Activity Level",
         "rawType": "float64",
         "type": "float"
        },
        {
         "name": "Daily Steps",
         "rawType": "float64",
         "type": "float"
        }
       ],
       "conversionMethod": "pd.DataFrame",
       "ref": "4e9f69ad-af3b-43d8-b76b-d2bb82bee1cd",
       "rows": [
        [
         "Sleep Duration",
         "1.0",
         "0.88",
         "-0.81",
         "-0.52",
         "0.21",
         "-0.04"
        ],
        [
         "Quality of Sleep",
         "0.88",
         "1.0",
         "-0.9",
         "-0.66",
         "0.19",
         "0.02"
        ],
        [
         "Stress Level",
         "-0.81",
         "-0.9",
         "1.0",
         "0.67",
         "-0.03",
         "0.19"
        ],
        [
         "Heart Rate",
         "-0.52",
         "-0.66",
         "0.67",
         "1.0",
         "0.14",
         "-0.03"
        ],
        [
         "Physical Activity Level",
         "0.21",
         "0.19",
         "-0.03",
         "0.14",
         "1.0",
         "0.77"
        ],
        [
         "Daily Steps",
         "-0.04",
         "0.02",
         "0.19",
         "-0.03",
         "0.77",
         "1.0"
        ]
       ],
       "shape": {
        "columns": 6,
        "rows": 6
       }
      },
      "text/html": [
       "<div>\n",
       "<style scoped>\n",
       "    .dataframe tbody tr th:only-of-type {\n",
       "        vertical-align: middle;\n",
       "    }\n",
       "\n",
       "    .dataframe tbody tr th {\n",
       "        vertical-align: top;\n",
       "    }\n",
       "\n",
       "    .dataframe thead th {\n",
       "        text-align: right;\n",
       "    }\n",
       "</style>\n",
       "<table border=\"1\" class=\"dataframe\">\n",
       "  <thead>\n",
       "    <tr style=\"text-align: right;\">\n",
       "      <th></th>\n",
       "      <th>Sleep Duration</th>\n",
       "      <th>Quality of Sleep</th>\n",
       "      <th>Stress Level</th>\n",
       "      <th>Heart Rate</th>\n",
       "      <th>Physical Activity Level</th>\n",
       "      <th>Daily Steps</th>\n",
       "    </tr>\n",
       "  </thead>\n",
       "  <tbody>\n",
       "    <tr>\n",
       "      <th>Sleep Duration</th>\n",
       "      <td>1.00</td>\n",
       "      <td>0.88</td>\n",
       "      <td>-0.81</td>\n",
       "      <td>-0.52</td>\n",
       "      <td>0.21</td>\n",
       "      <td>-0.04</td>\n",
       "    </tr>\n",
       "    <tr>\n",
       "      <th>Quality of Sleep</th>\n",
       "      <td>0.88</td>\n",
       "      <td>1.00</td>\n",
       "      <td>-0.90</td>\n",
       "      <td>-0.66</td>\n",
       "      <td>0.19</td>\n",
       "      <td>0.02</td>\n",
       "    </tr>\n",
       "    <tr>\n",
       "      <th>Stress Level</th>\n",
       "      <td>-0.81</td>\n",
       "      <td>-0.90</td>\n",
       "      <td>1.00</td>\n",
       "      <td>0.67</td>\n",
       "      <td>-0.03</td>\n",
       "      <td>0.19</td>\n",
       "    </tr>\n",
       "    <tr>\n",
       "      <th>Heart Rate</th>\n",
       "      <td>-0.52</td>\n",
       "      <td>-0.66</td>\n",
       "      <td>0.67</td>\n",
       "      <td>1.00</td>\n",
       "      <td>0.14</td>\n",
       "      <td>-0.03</td>\n",
       "    </tr>\n",
       "    <tr>\n",
       "      <th>Physical Activity Level</th>\n",
       "      <td>0.21</td>\n",
       "      <td>0.19</td>\n",
       "      <td>-0.03</td>\n",
       "      <td>0.14</td>\n",
       "      <td>1.00</td>\n",
       "      <td>0.77</td>\n",
       "    </tr>\n",
       "    <tr>\n",
       "      <th>Daily Steps</th>\n",
       "      <td>-0.04</td>\n",
       "      <td>0.02</td>\n",
       "      <td>0.19</td>\n",
       "      <td>-0.03</td>\n",
       "      <td>0.77</td>\n",
       "      <td>1.00</td>\n",
       "    </tr>\n",
       "  </tbody>\n",
       "</table>\n",
       "</div>"
      ],
      "text/plain": [
       "                         Sleep Duration  Quality of Sleep  Stress Level  \\\n",
       "Sleep Duration                     1.00              0.88         -0.81   \n",
       "Quality of Sleep                   0.88              1.00         -0.90   \n",
       "Stress Level                      -0.81             -0.90          1.00   \n",
       "Heart Rate                        -0.52             -0.66          0.67   \n",
       "Physical Activity Level            0.21              0.19         -0.03   \n",
       "Daily Steps                       -0.04              0.02          0.19   \n",
       "\n",
       "                         Heart Rate  Physical Activity Level  Daily Steps  \n",
       "Sleep Duration                -0.52                     0.21        -0.04  \n",
       "Quality of Sleep              -0.66                     0.19         0.02  \n",
       "Stress Level                   0.67                    -0.03         0.19  \n",
       "Heart Rate                     1.00                     0.14        -0.03  \n",
       "Physical Activity Level        0.14                     1.00         0.77  \n",
       "Daily Steps                   -0.03                     0.77         1.00  "
      ]
     },
     "execution_count": 37,
     "metadata": {},
     "output_type": "execute_result"
    }
   ],
   "source": [
    "#19.What are the strongest correlations between sleep and lifestyle factors?\n",
    "\n",
    "#\n",
    "# Select relevant numeric columns related to sleep and lifestyle\n",
    "relevant_columns = [\n",
    "    'Sleep Duration', 'Quality of Sleep', 'Stress Level', 'Heart Rate',\n",
    "    'Physical Activity Level', 'Daily Steps'\n",
    "]\n",
    "\n",
    "# Compute correlation matrix\n",
    "correlation_matrix = df[relevant_columns].corr().round(2)\n",
    "\n",
    "# Visualize with heatmap\n",
    "plt.figure(figsize=(10, 7))\n",
    "sns.heatmap(correlation_matrix, annot=True, cmap='coolwarm', fmt=\".2f\", square=True)\n",
    "plt.title(\"Correlation Matrix: Sleep and Lifestyle Factors\")\n",
    "plt.tight_layout()\n",
    "plt.show()\n",
    "\n",
    "# Display correlation matrix\n",
    "correlation_matrix"
   ]
  },
  {
   "cell_type": "markdown",
   "id": "547c5a1d",
   "metadata": {},
   "source": [
    "🧠 Key Takeaways:\n",
    "Stress has the strongest negative impact on both sleep quality and duration.\n",
    "\n",
    "More physical activity (steps + minutes) doesn’t directly improve sleep much, but they're highly aligned with each other.\n",
    "\n",
    "A higher heart rate may signal physiological stress, which can affect sleep quality — especially relevant for conditions like Sleep Apnea."
   ]
  },
  {
   "cell_type": "code",
   "execution_count": 38,
   "id": "343f9aa6",
   "metadata": {},
   "outputs": [
    {
     "data": {
      "image/png": "[encoded data removed]",
      "text/plain": [
       "<Figure size 1500x500 with 3 Axes>"
      ]
     },
     "metadata": {},
     "output_type": "display_data"
    },
    {
     "data": {
      "application/vnd.microsoft.datawrangler.viewer.v0+json": {
       "columns": [
        {
         "name": "index",
         "rawType": "object",
         "type": "string"
        },
        {
         "name": "Heart Rate",
         "rawType": "float64",
         "type": "float"
        },
        {
         "name": "Stress Level",
         "rawType": "float64",
         "type": "float"
        },
        {
         "name": "Sleep Duration",
         "rawType": "float64",
         "type": "float"
        }
       ],
       "conversionMethod": "pd.DataFrame",
       "ref": "fb8714d5-ad6a-4f4a-9a47-2c5cc80d1901",
       "rows": [
        [
         "count",
         "374.0",
         "374.0",
         "374.0"
        ],
        [
         "mean",
         "70.17",
         "5.39",
         "7.13"
        ],
        [
         "std",
         "4.14",
         "1.77",
         "0.8"
        ],
        [
         "min",
         "65.0",
         "3.0",
         "5.8"
        ],
        [
         "25%",
         "68.0",
         "4.0",
         "6.4"
        ],
        [
         "50%",
         "70.0",
         "5.0",
         "7.2"
        ],
        [
         "75%",
         "72.0",
         "7.0",
         "7.8"
        ],
        [
         "max",
         "86.0",
         "8.0",
         "8.5"
        ]
       ],
       "shape": {
        "columns": 3,
        "rows": 8
       }
      },
      "text/html": [
       "<div>\n",
       "<style scoped>\n",
       "    .dataframe tbody tr th:only-of-type {\n",
       "        vertical-align: middle;\n",
       "    }\n",
       "\n",
       "    .dataframe tbody tr th {\n",
       "        vertical-align: top;\n",
       "    }\n",
       "\n",
       "    .dataframe thead th {\n",
       "        text-align: right;\n",
       "    }\n",
       "</style>\n",
       "<table border=\"1\" class=\"dataframe\">\n",
       "  <thead>\n",
       "    <tr style=\"text-align: right;\">\n",
       "      <th></th>\n",
       "      <th>Heart Rate</th>\n",
       "      <th>Stress Level</th>\n",
       "      <th>Sleep Duration</th>\n",
       "    </tr>\n",
       "  </thead>\n",
       "  <tbody>\n",
       "    <tr>\n",
       "      <th>count</th>\n",
       "      <td>374.00</td>\n",
       "      <td>374.00</td>\n",
       "      <td>374.00</td>\n",
       "    </tr>\n",
       "    <tr>\n",
       "      <th>mean</th>\n",
       "      <td>70.17</td>\n",
       "      <td>5.39</td>\n",
       "      <td>7.13</td>\n",
       "    </tr>\n",
       "    <tr>\n",
       "      <th>std</th>\n",
       "      <td>4.14</td>\n",
       "      <td>1.77</td>\n",
       "      <td>0.80</td>\n",
       "    </tr>\n",
       "    <tr>\n",
       "      <th>min</th>\n",
       "      <td>65.00</td>\n",
       "      <td>3.00</td>\n",
       "      <td>5.80</td>\n",
       "    </tr>\n",
       "    <tr>\n",
       "      <th>25%</th>\n",
       "      <td>68.00</td>\n",
       "      <td>4.00</td>\n",
       "      <td>6.40</td>\n",
       "    </tr>\n",
       "    <tr>\n",
       "      <th>50%</th>\n",
       "      <td>70.00</td>\n",
       "      <td>5.00</td>\n",
       "      <td>7.20</td>\n",
       "    </tr>\n",
       "    <tr>\n",
       "      <th>75%</th>\n",
       "      <td>72.00</td>\n",
       "      <td>7.00</td>\n",
       "      <td>7.80</td>\n",
       "    </tr>\n",
       "    <tr>\n",
       "      <th>max</th>\n",
       "      <td>86.00</td>\n",
       "      <td>8.00</td>\n",
       "      <td>8.50</td>\n",
       "    </tr>\n",
       "  </tbody>\n",
       "</table>\n",
       "</div>"
      ],
      "text/plain": [
       "       Heart Rate  Stress Level  Sleep Duration\n",
       "count      374.00        374.00          374.00\n",
       "mean        70.17          5.39            7.13\n",
       "std          4.14          1.77            0.80\n",
       "min         65.00          3.00            5.80\n",
       "25%         68.00          4.00            6.40\n",
       "50%         70.00          5.00            7.20\n",
       "75%         72.00          7.00            7.80\n",
       "max         86.00          8.00            8.50"
      ]
     },
     "execution_count": 38,
     "metadata": {},
     "output_type": "execute_result"
    }
   ],
   "source": [
    "#20.Are there outliers in heart rate, stress, or sleep duration? What do they reveal?\n",
    "\n",
    "# Create 3 boxplots for Heart Rate, Stress Level, and Sleep Duration\n",
    "plt.figure(figsize=(15, 5))\n",
    "for i, column in enumerate(['Heart Rate', 'Stress Level', 'Sleep Duration']):\n",
    "    plt.subplot(1, 3, i + 1)\n",
    "    sns.boxplot(data=df, y=column, color='lightblue')\n",
    "    plt.title(f'{column} Distribution')\n",
    "    plt.grid(axis='y', linestyle='--', alpha=0.5)\n",
    "\n",
    "plt.tight_layout()\n",
    "plt.show()\n",
    "\n",
    "# Show summary statistics for outlier interpretation\n",
    "df[['Heart Rate', 'Stress Level', 'Sleep Duration']].describe().round(2)"
   ]
  },
  {
   "cell_type": "markdown",
   "id": "a6660ba6",
   "metadata": {},
   "source": [
    "💓 Heart Rate:\n",
    "Outliers detected above ~78 bpm (see circles in the leftmost boxplot).\n",
    "\n",
    "Max = 86 bpm, while 75th percentile = 72 bpm → suggests a few individuals may have unusually high resting heart rates.\n",
    "\n",
    "🧠 Insight: These outliers could reflect cardiovascular stress, perhaps linked to Sleep Apnea or anxiety.\n",
    "\n",
    "😰 Stress Level:\n",
    "No strong outliers visually — distribution is symmetric between 3 and 8.\n",
    "\n",
    "50% of people fall between 4 and 7.\n",
    "\n",
    "🧠 Insight: Stress is consistently spread, but not extreme in most cases.\n",
    "\n",
    "🛌 Sleep Duration:\n",
    "Fairly normal distribution; no extreme outliers.\n",
    "\n",
    "Range = 5.8 to 8.5 hours, which fits expected sleep needs.\n",
    "\n",
    "🧠 Insight: Most participants sleep within a healthy range, but those closer to the edges may be at risk of sleep deprivation or oversleeping."
   ]
  },
  {
   "cell_type": "markdown",
   "id": "ceed56f3",
   "metadata": {},
   "source": [
    "# 💤 Conclusion: Insights from Sleep and Lifestyle Patterns\n",
    "\n",
    "This analysis explored how various lifestyle factors—such as physical activity, stress levels, and cardiovascular metrics—relate to sleep health, with particular attention to sleep disorders like Insomnia and Sleep Apnea. Key findings are outlined below:\n",
    "\n",
    "🔹 Sleep Disorders and Sleep Health\n",
    "Individuals with Insomnia have the shortest sleep duration (6.59 hrs) and lowest sleep quality (6.53/10).\n",
    "\n",
    "Those with Sleep Apnea experience moderately lower sleep quality and slightly reduced duration compared to those without any disorder.\n",
    "\n",
    "Sleep disorders are strongly associated with lower sleep quality and shorter sleep duration overall.\n",
    "\n",
    "🔹 Stress as a Key Driver\n",
    "Stress Level is the strongest negative correlate of both sleep quality (−0.90) and sleep duration (−0.81).\n",
    "\n",
    "Elevated stress also links with higher heart rate (r = +0.67), reflecting a compounding effect on physiological strain.\n",
    "\n",
    "🔹 Lifestyle Behaviors\n",
    "More daily steps are strongly associated with more physical activity time (r = +0.77), confirming expected movement patterns.\n",
    "\n",
    "However, physical activity had only a weak direct correlation with sleep quality or duration, suggesting that mental stress plays a larger role in sleep health than activity level alone.\n",
    "\n",
    "🔹 Heart Rate and Sleep\n",
    "Individuals with higher heart rates tend to report poorer sleep (Quality of Sleep r = −0.66).\n",
    "\n",
    "Heart rate outliers (>78 bpm) may signal potential sleep-related or cardiovascular conditions, such as Sleep Apnea.\n",
    "\n",
    "🔹 Outlier Insights\n",
    "Outliers were found primarily in heart rate, possibly indicating underlying health risks.\n",
    "\n",
    "Stress level and sleep duration showed relatively stable distributions, with no extreme cases, suggesting generally balanced lifestyle habits in the sample population.\n",
    "\n",
    "📌 Final Takeaway\n",
    "Mental stress is the most influential factor affecting sleep health, outweighing physical activity in both sleep quality and duration. Interventions aiming to improve sleep outcomes should focus not only on promoting exercise but also on reducing stress levels and managing cardiovascular strain."
   ]
  }
 ],
 "metadata": {
  "kernelspec": {
   "display_name": "Cohort_Env",
   "language": "python",
   "name": "python3"
  },
  "language_info": {
   "codemirror_mode": {
    "name": "ipython",
    "version": 3
   },
   "file_extension": ".py",
   "mimetype": "text/x-python",
   "name": "python",
   "nbconvert_exporter": "python",
   "pygments_lexer": "ipython3",
   "version": "3.8.19"
  }
 },
 "nbformat": 4,
 "nbformat_minor": 5
}
